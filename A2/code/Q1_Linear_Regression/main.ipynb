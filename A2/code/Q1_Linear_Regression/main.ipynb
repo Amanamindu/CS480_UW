{
 "cells": [
  {
   "cell_type": "code",
   "execution_count": 1,
   "metadata": {},
   "outputs": [],
   "source": [
    "import numpy as np\n",
    "from utils.LoadDataset import LoadDataset\n",
    "from models.LinearRegression import LinearRegression\n",
    "from matplotlib import pyplot as plt\n",
    "from sklearn.linear_model import Ridge"
   ]
  },
  {
   "cell_type": "code",
   "execution_count": 2,
   "metadata": {},
   "outputs": [],
   "source": [
    "N = 10\n",
    "alphas = np.arange(0, 4.1, 0.1)\n",
    "alpha_to_losses = {}\n",
    "alpha_to_average_loss = {}\n",
    "\n",
    "for i in range(N):\n",
    "# 10-fold cross validation\n",
    "    X_train, y_train, X_val, y_val = LoadDataset(i, N)\n",
    "    for alpha in alphas: \n",
    "        reg = LinearRegression(alpha)\n",
    "        #reg = Ridge(alpha=alpha)\n",
    "        reg.fit(X_train, y_train)\n",
    "        y_pred = reg.predict(X_val)\n",
    "        loss = np.linalg.norm(y_pred - y_val)**2\n",
    "        alpha_to_losses.setdefault(alpha, []).append(loss)\n",
    "        \n",
    "for alpha in sorted(alpha_to_losses):\n",
    "    sum_losses = 0\n",
    "    for loss in alpha_to_losses[alpha]:\n",
    "        sum_losses += loss\n",
    "    average_loss = sum_losses / N\n",
    "    alpha_to_average_loss.setdefault(alpha, []).append(average_loss)\n",
    "    #print(\"alpha = %.2f, average loss = %.5f\" % (alpha, average_loss))"
   ]
  },
  {
   "cell_type": "code",
   "execution_count": 3,
   "metadata": {
    "scrolled": true
   },
   "outputs": [
    {
     "data": {
      "image/png": "[encoded data removed]",
      "text/plain": [
       "<matplotlib.figure.Figure at 0x193f2fedf60>"
      ]
     },
     "metadata": {},
     "output_type": "display_data"
    }
   ],
   "source": [
    "loss_values = [alpha_to_average_loss[alpha] for alpha in alphas]\n",
    "plt.plot(alphas, loss_values)\n",
    "plt.xlabel('Regularization Strength')\n",
    "plt.ylabel('Euclidean Error')\n",
    "plt.show()"
   ]
  },
  {
   "cell_type": "code",
   "execution_count": 4,
   "metadata": {},
   "outputs": [
    {
     "name": "stdout",
     "output_type": "stream",
     "text": [
      "Best lambda is: 1.2\n"
     ]
    }
   ],
   "source": [
    "best_index = np.argmin(np.array(loss_values))\n",
    "best_alpha = alphas[best_index]\n",
    "print(\"Best lambda is: %.1f\" % best_alpha)"
   ]
  },
  {
   "cell_type": "code",
   "execution_count": null,
   "metadata": {},
   "outputs": [],
   "source": []
  }
 ],
 "metadata": {
  "kernelspec": {
   "display_name": "Python [conda env:Anaconda3]",
   "language": "python",
   "name": "conda-env-Anaconda3-py"
  },
  "language_info": {
   "codemirror_mode": {
    "name": "ipython",
    "version": 3
   },
   "file_extension": ".py",
   "mimetype": "text/x-python",
   "name": "python",
   "nbconvert_exporter": "python",
   "pygments_lexer": "ipython3",
   "version": "3.6.4"
  },
  "toc": {
   "base_numbering": 1,
   "nav_menu": {},
   "number_sections": true,
   "sideBar": true,
   "skip_h1_title": false,
   "title_cell": "Table of Contents",
   "title_sidebar": "Contents",
   "toc_cell": false,
   "toc_position": {},
   "toc_section_display": true,
   "toc_window_display": false
  }
 },
 "nbformat": 4,
 "nbformat_minor": 2
}
