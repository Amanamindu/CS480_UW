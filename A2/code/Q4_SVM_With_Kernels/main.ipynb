{
 "cells": [
  {
   "cell_type": "code",
   "execution_count": 1,
   "metadata": {},
   "outputs": [],
   "source": [
    "import numpy as np\n",
    "from utils.LoadDataset import LoadDataset\n",
    "from sklearn.svm import SVC\n",
    "\n",
    "X, y = LoadDataset()\n"
   ]
  },
  {
   "cell_type": "code",
   "execution_count": 2,
   "metadata": {},
   "outputs": [
    {
     "name": "stdout",
     "output_type": "stream",
     "text": [
      "Linear Kernel:\n",
      "C = 1, accuracy = 0.92308\n",
      "C = 10, accuracy = 0.94302\n",
      "C = 100, accuracy = 0.94017\n"
     ]
    }
   ],
   "source": [
    "# Linear Kernel\n",
    "print('Linear Kernel:')\n",
    "C_choices = [1, 10, 100]\n",
    "C_to_accuracy = {}\n",
    "for C in C_choices:\n",
    "    clf = SVC(C=C, kernel='linear')\n",
    "    clf.fit(X, y)\n",
    "    y_pred = clf.predict(X)\n",
    "    accuracy = clf.score(X, y)\n",
    "    C_to_accuracy[C] = accuracy\n",
    "\n",
    "for C in sorted(C_to_accuracy.keys()):\n",
    "    print('C = %d, accuracy = %.5f' % (C, C_to_accuracy[C]))"
   ]
  },
  {
   "cell_type": "code",
   "execution_count": 6,
   "metadata": {},
   "outputs": [
    {
     "name": "stdout",
     "output_type": "stream",
     "text": [
      "Polynomial Kernel:\n",
      "C = 1, degree = 3, accuracy = 0.68661\n",
      "C = 1, degree = 4, accuracy = 0.65527\n",
      "C = 1, degree = 5, accuracy = 0.64672\n",
      "C = 10, degree = 3, accuracy = 0.92877\n",
      "C = 10, degree = 4, accuracy = 0.82621\n",
      "C = 10, degree = 5, accuracy = 0.75499\n",
      "C = 100, degree = 3, accuracy = 0.96296\n",
      "C = 100, degree = 4, accuracy = 0.95726\n",
      "C = 100, degree = 5, accuracy = 0.89744\n"
     ]
    }
   ],
   "source": [
    "# Polynomial Kernel\n",
    "print('Polynomial Kernel:')\n",
    "C_choices = [1, 10, 100]\n",
    "degree_choices = [3, 4, 5]\n",
    "C_degree_to_accuracy = {}\n",
    "for C in C_choices:\n",
    "    for d in degree_choices:\n",
    "        clf = SVC(C=C, kernel='poly', degree=d)\n",
    "        clf.fit(X, y)\n",
    "        y_pred = clf.predict(X)\n",
    "        accuracy = clf.score(X, y)\n",
    "        C_degree_to_accuracy[(C, d)] = accuracy\n",
    "\n",
    "for C, d in sorted(C_degree_to_accuracy.keys()):\n",
    "    print('C = %d, degree = %d, accuracy = %.5f' % (C, d, C_degree_to_accuracy[(C, d)]))"
   ]
  },
  {
   "cell_type": "code",
   "execution_count": 4,
   "metadata": {},
   "outputs": [
    {
     "name": "stdout",
     "output_type": "stream",
     "text": [
      "RBF Kernel:\n",
      "C = 1, gamma = 0.00588, accuracy = 0.87464\n",
      "C = 1, gamma = 0.02941, accuracy = 0.94587\n",
      "C = 1, gamma = 0.14706, accuracy = 0.97151\n",
      "C = 10, gamma = 0.00588, accuracy = 0.94587\n",
      "C = 10, gamma = 0.02941, accuracy = 0.97436\n",
      "C = 10, gamma = 0.14706, accuracy = 0.99430\n",
      "C = 100, gamma = 0.00588, accuracy = 0.97151\n",
      "C = 100, gamma = 0.02941, accuracy = 0.99145\n",
      "C = 100, gamma = 0.14706, accuracy = 1.00000\n"
     ]
    }
   ],
   "source": [
    "# RBF Kernel\n",
    "print('RBF Kernel:')\n",
    "num_features = X.shape[1]\n",
    "C_choices = [1, 10, 100]\n",
    "gamma_choices = [0.2 / num_features, 1.0 / num_features, 5.0 / num_features]\n",
    "C_gamma_to_accuracy = {}\n",
    "for C in C_choices:\n",
    "    for g in gamma_choices:\n",
    "        clf = SVC(C=C, kernel='rbf', gamma=g)\n",
    "        clf.fit(X, y)\n",
    "        y_pred = clf.predict(X)\n",
    "        accuracy = clf.score(X, y)\n",
    "        C_gamma_to_accuracy[(C, g)] = accuracy\n",
    "        \n",
    "for C, g in sorted(C_gamma_to_accuracy.keys()):\n",
    "    print('C = %d, gamma = %.5f, accuracy = %.5f' % (C, g, C_gamma_to_accuracy[(C, g)]))"
   ]
  },
  {
   "cell_type": "code",
   "execution_count": null,
   "metadata": {},
   "outputs": [],
   "source": []
  }
 ],
 "metadata": {
  "kernelspec": {
   "display_name": "Python [conda env:Anaconda3]",
   "language": "python",
   "name": "conda-env-Anaconda3-py"
  },
  "language_info": {
   "codemirror_mode": {
    "name": "ipython",
    "version": 3
   },
   "file_extension": ".py",
   "mimetype": "text/x-python",
   "name": "python",
   "nbconvert_exporter": "python",
   "pygments_lexer": "ipython3",
   "version": "3.6.4"
  },
  "toc": {
   "base_numbering": 1,
   "nav_menu": {},
   "number_sections": true,
   "sideBar": true,
   "skip_h1_title": false,
   "title_cell": "Table of Contents",
   "title_sidebar": "Contents",
   "toc_cell": false,
   "toc_position": {},
   "toc_section_display": true,
   "toc_window_display": false
  }
 },
 "nbformat": 4,
 "nbformat_minor": 2
}
