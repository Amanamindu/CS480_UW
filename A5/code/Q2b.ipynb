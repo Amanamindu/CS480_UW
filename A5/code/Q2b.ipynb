{
  "nbformat": 4,
  "nbformat_minor": 0,
  "metadata": {
    "colab": {
      "name": "Copy of char_rnn_generation_tutorial.ipynb",
      "version": "0.3.2",
      "provenance": [],
      "collapsed_sections": []
    },
    "kernelspec": {
      "name": "python3",
      "display_name": "Python 3"
    },
    "accelerator": "GPU"
  },
  "cells": [
    {
      "metadata": {
        "id": "fkbR6r-WWxm_",
        "colab_type": "code",
        "outputId": "127e6478-8bc1-4225-f4b8-3076b01407f7",
        "colab": {
          "base_uri": "https://localhost:8080/",
          "height": 554
        }
      },
      "cell_type": "code",
      "source": [
        "!wget https://download.pytorch.org/tutorial/data.zip\n",
        "!unzip data.zip"
      ],
      "execution_count": 0,
      "outputs": [
        {
          "output_type": "stream",
          "text": [
            "--2019-04-08 07:02:37--  https://download.pytorch.org/tutorial/data.zip\n",
            "Resolving download.pytorch.org (download.pytorch.org)... 13.249.87.81, 13.249.87.32, 13.249.87.90, ...\n",
            "Connecting to download.pytorch.org (download.pytorch.org)|13.249.87.81|:443... connected.\n",
            "HTTP request sent, awaiting response... 200 OK\n",
            "Length: 2882130 (2.7M) [application/zip]\n",
            "Saving to: ‘data.zip.2’\n",
            "\n",
            "\rdata.zip.2            0%[                    ]       0  --.-KB/s               \rdata.zip.2          100%[===================>]   2.75M  --.-KB/s    in 0.07s   \n",
            "\n",
            "2019-04-08 07:02:37 (40.1 MB/s) - ‘data.zip.2’ saved [2882130/2882130]\n",
            "\n",
            "Archive:  data.zip\n",
            "replace data/eng-fra.txt? [y]es, [n]o, [A]ll, [N]one, [r]ename: A\n",
            "  inflating: data/eng-fra.txt        \n",
            "  inflating: data/names/Arabic.txt   \n",
            "  inflating: data/names/Chinese.txt  \n",
            "  inflating: data/names/Czech.txt    \n",
            "  inflating: data/names/Dutch.txt    \n",
            "  inflating: data/names/English.txt  \n",
            "  inflating: data/names/French.txt   \n",
            "  inflating: data/names/German.txt   \n",
            "  inflating: data/names/Greek.txt    \n",
            "  inflating: data/names/Irish.txt    \n",
            "  inflating: data/names/Italian.txt  \n",
            "  inflating: data/names/Japanese.txt  \n",
            "  inflating: data/names/Korean.txt   \n",
            "  inflating: data/names/Polish.txt   \n",
            "  inflating: data/names/Portuguese.txt  \n",
            "  inflating: data/names/Russian.txt  \n",
            "  inflating: data/names/Scottish.txt  \n",
            "  inflating: data/names/Spanish.txt  \n",
            "  inflating: data/names/Vietnamese.txt  \n"
          ],
          "name": "stdout"
        }
      ]
    },
    {
      "metadata": {
        "id": "3DTRFW_GLQ3b",
        "colab_type": "code",
        "colab": {}
      },
      "cell_type": "code",
      "source": [
        "%matplotlib inline"
      ],
      "execution_count": 0,
      "outputs": []
    },
    {
      "metadata": {
        "id": "hzVJNO-ELQ3s",
        "colab_type": "text"
      },
      "cell_type": "markdown",
      "source": [
        "\n",
        "Generating Names with a Character-Level RNN\n",
        "*******************************************\n",
        "**Author**: `Sean Robertson <https://github.com/spro/practical-pytorch>`_\n",
        "\n",
        "In the :doc:`last tutorial </intermediate/char_rnn_classification_tutorial>`\n",
        "we used a RNN to classify names into their language of origin. This time\n",
        "we'll turn around and generate names from languages.\n",
        "\n",
        "::\n",
        "\n",
        "    > python sample.py Russian RUS\n",
        "    Rovakov\n",
        "    Uantov\n",
        "    Shavakov\n",
        "\n",
        "    > python sample.py German GER\n",
        "    Gerren\n",
        "    Ereng\n",
        "    Rosher\n",
        "\n",
        "    > python sample.py Spanish SPA\n",
        "    Salla\n",
        "    Parer\n",
        "    Allan\n",
        "\n",
        "    > python sample.py Chinese CHI\n",
        "    Chan\n",
        "    Hang\n",
        "    Iun\n",
        "\n",
        "We are still hand-crafting a small RNN with a few linear layers. The big\n",
        "difference is instead of predicting a category after reading in all the\n",
        "letters of a name, we input a category and output one letter at a time.\n",
        "Recurrently predicting characters to form language (this could also be\n",
        "done with words or other higher order constructs) is often referred to\n",
        "as a \"language model\".\n",
        "\n",
        "**Recommended Reading:**\n",
        "\n",
        "I assume you have at least installed PyTorch, know Python, and\n",
        "understand Tensors:\n",
        "\n",
        "-  http://pytorch.org/ For installation instructions\n",
        "-  :doc:`/beginner/deep_learning_60min_blitz` to get started with PyTorch in general\n",
        "-  :doc:`/beginner/pytorch_with_examples` for a wide and deep overview\n",
        "-  :doc:`/beginner/former_torchies_tutorial` if you are former Lua Torch user\n",
        "\n",
        "It would also be useful to know about RNNs and how they work:\n",
        "\n",
        "-  `The Unreasonable Effectiveness of Recurrent Neural\n",
        "   Networks <http://karpathy.github.io/2015/05/21/rnn-effectiveness/>`__\n",
        "   shows a bunch of real life examples\n",
        "-  `Understanding LSTM\n",
        "   Networks <http://colah.github.io/posts/2015-08-Understanding-LSTMs/>`__\n",
        "   is about LSTMs specifically but also informative about RNNs in\n",
        "   general\n",
        "\n",
        "I also suggest the previous tutorial, :doc:`/intermediate/char_rnn_classification_tutorial`\n",
        "\n",
        "\n",
        "Preparing the Data\n",
        "==================\n",
        "\n",
        ".. Note::\n",
        "   Download the data from\n",
        "   `here <https://download.pytorch.org/tutorial/data.zip>`_\n",
        "   and extract it to the current directory.\n",
        "\n",
        "See the last tutorial for more detail of this process. In short, there\n",
        "are a bunch of plain text files ``data/names/[Language].txt`` with a\n",
        "name per line. We split lines into an array, convert Unicode to ASCII,\n",
        "and end up with a dictionary ``{language: [names ...]}``.\n",
        "\n",
        "\n"
      ]
    },
    {
      "metadata": {
        "id": "S-ilRK45LQ32",
        "colab_type": "code",
        "outputId": "87220d87-451e-4f94-bf04-cf22ec60c5b3",
        "colab": {
          "base_uri": "https://localhost:8080/",
          "height": 70
        }
      },
      "cell_type": "code",
      "source": [
        "from __future__ import unicode_literals, print_function, division\n",
        "from io import open\n",
        "import glob\n",
        "import os\n",
        "import unicodedata\n",
        "import string\n",
        "\n",
        "all_letters = string.ascii_letters + \" .,;'-\"\n",
        "n_letters = len(all_letters) + 1 # Plus EOS marker\n",
        "\n",
        "def findFiles(path): return glob.glob(path)\n",
        "\n",
        "# Turn a Unicode string to plain ASCII, thanks to http://stackoverflow.com/a/518232/2809427\n",
        "def unicodeToAscii(s):\n",
        "    return ''.join(\n",
        "        c for c in unicodedata.normalize('NFD', s)\n",
        "        if unicodedata.category(c) != 'Mn'\n",
        "        and c in all_letters\n",
        "    )\n",
        "\n",
        "# Read a file and split into lines\n",
        "def readLines(filename):\n",
        "    lines = open(filename, encoding='utf-8').read().strip().split('\\n')\n",
        "    return [unicodeToAscii(line) for line in lines]\n",
        "\n",
        "# Build the category_lines dictionary, a list of lines per category\n",
        "category_lines = {}\n",
        "all_categories = []\n",
        "for filename in findFiles('data/names/*.txt'):\n",
        "    category = os.path.splitext(os.path.basename(filename))[0]\n",
        "    all_categories.append(category)\n",
        "    lines = readLines(filename)\n",
        "    category_lines[category] = lines\n",
        "\n",
        "n_categories = len(all_categories)\n",
        "\n",
        "if n_categories == 0:\n",
        "    raise RuntimeError('Data not found. Make sure that you downloaded data '\n",
        "        'from https://download.pytorch.org/tutorial/data.zip and extract it to '\n",
        "        'the current directory.')\n",
        "\n",
        "print('# categories:', n_categories, all_categories)\n",
        "print(unicodeToAscii(\"O'Néàl\"))"
      ],
      "execution_count": 0,
      "outputs": [
        {
          "output_type": "stream",
          "text": [
            "# categories: 18 ['Dutch', 'Vietnamese', 'French', 'Japanese', 'Italian', 'Polish', 'Russian', 'German', 'Irish', 'Spanish', 'Portuguese', 'Arabic', 'Chinese', 'English', 'Czech', 'Greek', 'Korean', 'Scottish']\n",
            "O'Neal\n"
          ],
          "name": "stdout"
        }
      ]
    },
    {
      "metadata": {
        "id": "_eh5XAwSYyyi",
        "colab_type": "code",
        "colab": {}
      },
      "cell_type": "code",
      "source": [
        "import random\n",
        "\n",
        "# divide data into 20% validation and 80% training\n",
        "category_lines_train = {}\n",
        "category_lines_val = {}\n",
        "for key in category_lines.keys():\n",
        "  random.shuffle(category_lines[key])\n",
        "  splitpoint = int(len(category_lines[key]) * 0.2)\n",
        "  category_lines_val[key] = category_lines[key][:splitpoint]\n",
        "  category_lines_train[key] = category_lines[key][splitpoint:]"
      ],
      "execution_count": 0,
      "outputs": []
    },
    {
      "metadata": {
        "id": "ian1aHSeLQ4L",
        "colab_type": "text"
      },
      "cell_type": "markdown",
      "source": [
        "Creating the Network\n",
        "====================\n",
        "\n",
        "This network extends `the last tutorial's RNN <#Creating-the-Network>`__\n",
        "with an extra argument for the category tensor, which is concatenated\n",
        "along with the others. The category tensor is a one-hot vector just like\n",
        "the letter input.\n",
        "\n",
        "We will interpret the output as the probability of the next letter. When\n",
        "sampling, the most likely output letter is used as the next input\n",
        "letter.\n",
        "\n",
        "I added a second linear layer ``o2o`` (after combining hidden and\n",
        "output) to give it more muscle to work with. There's also a dropout\n",
        "layer, which `randomly zeros parts of its\n",
        "input <https://arxiv.org/abs/1207.0580>`__ with a given probability\n",
        "(here 0.1) and is usually used to fuzz inputs to prevent overfitting.\n",
        "Here we're using it towards the end of the network to purposely add some\n",
        "chaos and increase sampling variety.\n",
        "\n",
        ".. figure:: https://i.imgur.com/jzVrf7f.png\n",
        "   :alt:\n",
        "\n",
        "\n",
        "\n"
      ]
    },
    {
      "metadata": {
        "id": "y1_5Q-I0LQ4P",
        "colab_type": "code",
        "colab": {}
      },
      "cell_type": "code",
      "source": [
        "# previous hidden unit, previous character, category\n",
        "import torch\n",
        "import torch.nn as nn\n",
        "\n",
        "class RNN(nn.Module):\n",
        "    def __init__(self, input_size, hidden_size, output_size):\n",
        "        super(RNN, self).__init__()\n",
        "        self.hidden_size = hidden_size\n",
        "\n",
        "        self.i2h = nn.Linear(n_categories + input_size + hidden_size, hidden_size)\n",
        "        self.i2o = nn.Linear(n_categories + input_size + hidden_size, output_size)\n",
        "        self.o2o = nn.Linear(hidden_size + output_size, output_size)\n",
        "        self.dropout = nn.Dropout(0.1)\n",
        "        self.softmax = nn.LogSoftmax(dim=1)\n",
        "\n",
        "    def forward(self, category, input, hidden):\n",
        "        input_combined = torch.cat((category, input, hidden), 1)\n",
        "        hidden = self.i2h(input_combined)\n",
        "        output = self.i2o(input_combined)\n",
        "        output_combined = torch.cat((hidden, output), 1)\n",
        "        output = self.o2o(output_combined)\n",
        "        output = self.dropout(output)\n",
        "        output = self.softmax(output)\n",
        "        return output, hidden\n",
        "\n",
        "    def initHidden(self):\n",
        "        return torch.zeros(1, self.hidden_size)\n",
        "      \n",
        "class RNN3(nn.Module):\n",
        "    def __init__(self, input_size, hidden_size, output_size):\n",
        "        super(RNN3, self).__init__()\n",
        "        self.hidden_size = hidden_size\n",
        "\n",
        "        self.i2h = nn.Linear(n_categories + input_size + hidden_size, hidden_size)\n",
        "        self.i2o = nn.Linear(n_categories + input_size + hidden_size, output_size)\n",
        "        self.o2o = nn.Linear(hidden_size + output_size, output_size)\n",
        "        self.dropout = nn.Dropout(0.1)\n",
        "        self.softmax = nn.LogSoftmax(dim=1)\n",
        "\n",
        "    def forward(self, category, input, hidden):\n",
        "        input_combined_i2o = torch.cat((category, input, hidden), 1)\n",
        "        input_combined_i2h = torch.cat((category, torch.zeros_like(input), hidden), 1)\n",
        "        hidden = self.i2h(input_combined_i2h)\n",
        "        output = self.i2o(input_combined_i2o)\n",
        "        output_combined = torch.cat((hidden, output), 1)\n",
        "        output = self.o2o(output_combined)\n",
        "        output = self.dropout(output)\n",
        "        output = self.softmax(output)\n",
        "        return output, hidden\n",
        "\n",
        "    def initHidden(self):\n",
        "        return torch.zeros(1, self.hidden_size)"
      ],
      "execution_count": 0,
      "outputs": []
    },
    {
      "metadata": {
        "id": "wJJ5CQ7YY8Cd",
        "colab_type": "code",
        "colab": {}
      },
      "cell_type": "code",
      "source": [
        "# 1. previous hidden unit, previous character, category\n",
        "\n",
        "# 2. previous hidden unit, previous character\n",
        "# zero out the category tensor after the first iteration for both i2h and i2o\n",
        "\n",
        "# 3, previous hidden unit, category\n",
        "# zero out the input tensor at all iterations for i2h\n",
        "\n",
        "# 4. previous hidden unit\n",
        "# zero out the category tensor after the first iteration for both i2h and i2o\n",
        "# zero out the input tensor at all iterations for i2h"
      ],
      "execution_count": 0,
      "outputs": []
    },
    {
      "metadata": {
        "id": "vdHxUHqhLQ4d",
        "colab_type": "text"
      },
      "cell_type": "markdown",
      "source": [
        "Training\n",
        "=========\n",
        "Preparing for Training\n",
        "----------------------\n",
        "\n",
        "First of all, helper functions to get random pairs of (category, line):\n",
        "\n",
        "\n"
      ]
    },
    {
      "metadata": {
        "id": "etP0JmVbLQ4h",
        "colab_type": "code",
        "colab": {}
      },
      "cell_type": "code",
      "source": [
        "import random\n",
        "\n",
        "# Random item from a list\n",
        "def randomChoice(l):\n",
        "    return l[random.randint(0, len(l) - 1)]\n",
        "\n",
        "# Get a random category and random line from that category\n",
        "def randomTrainingPair():\n",
        "    category = randomChoice(all_categories)\n",
        "    line = randomChoice(category_lines_train[category])\n",
        "    return category, line\n",
        "  \n",
        "def randomTestPair():\n",
        "    category = randomChoice(all_categories)\n",
        "    line = randomChoice(category_lines_val[category])\n",
        "    return category, line"
      ],
      "execution_count": 0,
      "outputs": []
    },
    {
      "metadata": {
        "id": "SyTgnBN8LQ4n",
        "colab_type": "text"
      },
      "cell_type": "markdown",
      "source": [
        "For each timestep (that is, for each letter in a training word) the\n",
        "inputs of the network will be\n",
        "``(category, current letter, hidden state)`` and the outputs will be\n",
        "``(next letter, next hidden state)``. So for each training set, we'll\n",
        "need the category, a set of input letters, and a set of output/target\n",
        "letters.\n",
        "\n",
        "Since we are predicting the next letter from the current letter for each\n",
        "timestep, the letter pairs are groups of consecutive letters from the\n",
        "line - e.g. for ``\"ABCD<EOS>\"`` we would create (\"A\", \"B\"), (\"B\", \"C\"),\n",
        "(\"C\", \"D\"), (\"D\", \"EOS\").\n",
        "\n",
        ".. figure:: https://i.imgur.com/JH58tXY.png\n",
        "   :alt:\n",
        "\n",
        "The category tensor is a `one-hot\n",
        "tensor <https://en.wikipedia.org/wiki/One-hot>`__ of size\n",
        "``<1 x n_categories>``. When training we feed it to the network at every\n",
        "timestep - this is a design choice, it could have been included as part\n",
        "of initial hidden state or some other strategy.\n",
        "\n",
        "\n"
      ]
    },
    {
      "metadata": {
        "id": "Pby3QkH2LQ4r",
        "colab_type": "code",
        "colab": {}
      },
      "cell_type": "code",
      "source": [
        "# One-hot vector for category\n",
        "def categoryTensor(category):\n",
        "    li = all_categories.index(category)\n",
        "    tensor = torch.zeros(1, n_categories)\n",
        "    tensor[0][li] = 1\n",
        "    return tensor\n",
        "\n",
        "# One-hot matrix of first to last letters (not including EOS) for input\n",
        "def inputTensor(line):\n",
        "    tensor = torch.zeros(len(line), 1, n_letters)\n",
        "    for li in range(len(line)):\n",
        "        letter = line[li]\n",
        "        tensor[li][0][all_letters.find(letter)] = 1\n",
        "    return tensor\n",
        "\n",
        "# LongTensor of second letter to end (EOS) for target\n",
        "def targetTensor(line):\n",
        "    letter_indexes = [all_letters.find(line[li]) for li in range(1, len(line))]\n",
        "    letter_indexes.append(n_letters - 1) # EOS\n",
        "    return torch.LongTensor(letter_indexes)"
      ],
      "execution_count": 0,
      "outputs": []
    },
    {
      "metadata": {
        "id": "GsIG8U9ALQ4x",
        "colab_type": "text"
      },
      "cell_type": "markdown",
      "source": [
        "For convenience during training we'll make a ``randomTrainingExample``\n",
        "function that fetches a random (category, line) pair and turns them into\n",
        "the required (category, input, target) tensors.\n",
        "\n",
        "\n"
      ]
    },
    {
      "metadata": {
        "id": "uUee8_x7LQ4y",
        "colab_type": "code",
        "colab": {}
      },
      "cell_type": "code",
      "source": [
        "# Make category, input, and target tensors from a random category, line pair\n",
        "def randomTrainingExample():\n",
        "    category, line = randomTrainingPair()\n",
        "    category_tensor = categoryTensor(category)\n",
        "    input_line_tensor = inputTensor(line)\n",
        "    target_line_tensor = targetTensor(line)\n",
        "    return category_tensor, input_line_tensor, target_line_tensor\n",
        "  \n",
        "def randomTestExample():\n",
        "    category, line = randomTestPair()\n",
        "    category_tensor = categoryTensor(category)\n",
        "    input_line_tensor = inputTensor(line)\n",
        "    target_line_tensor = targetTensor(line)\n",
        "    return category_tensor, input_line_tensor, target_line_tensor"
      ],
      "execution_count": 0,
      "outputs": []
    },
    {
      "metadata": {
        "id": "-07fttWGLQ49",
        "colab_type": "text"
      },
      "cell_type": "markdown",
      "source": [
        "Training the Network\n",
        "--------------------\n",
        "\n",
        "In contrast to classification, where only the last output is used, we\n",
        "are making a prediction at every step, so we are calculating loss at\n",
        "every step.\n",
        "\n",
        "The magic of autograd allows you to simply sum these losses at each step\n",
        "and call backward at the end.\n",
        "\n",
        "\n"
      ]
    },
    {
      "metadata": {
        "id": "MWvAZ-GJLQ5A",
        "colab_type": "code",
        "colab": {}
      },
      "cell_type": "code",
      "source": [
        "criterion = nn.NLLLoss()\n",
        "\n",
        "learning_rate = 0.0005\n",
        "\n",
        "def train(category_tensor, input_line_tensor, target_line_tensor):\n",
        "    target_line_tensor.unsqueeze_(-1)\n",
        "    hidden = rnn.initHidden()\n",
        "\n",
        "    rnn.zero_grad()\n",
        "\n",
        "    loss = 0\n",
        "\n",
        "    for i in range(input_line_tensor.size(0)):\n",
        "        output, hidden = rnn(category_tensor, input_line_tensor[i], hidden)\n",
        "        l = criterion(output, target_line_tensor[i])\n",
        "        loss += l\n",
        "\n",
        "    loss.backward()\n",
        "\n",
        "    for p in rnn.parameters():\n",
        "        p.data.add_(-learning_rate, p.grad.data)\n",
        "\n",
        "    return output, loss.item() / input_line_tensor.size(0)\n",
        "\n",
        "def test(category_tensor, input_line_tensor, target_line_tensor):\n",
        "    target_line_tensor.unsqueeze_(-1)\n",
        "    hidden = rnn.initHidden()\n",
        "\n",
        "    loss = 0\n",
        "\n",
        "    for i in range(input_line_tensor.size(0)):\n",
        "        output, hidden = rnn(category_tensor, input_line_tensor[i], hidden)\n",
        "        l = criterion(output, target_line_tensor[i])\n",
        "        loss += l\n",
        "\n",
        "    return output, loss.item() / input_line_tensor.size(0)\n",
        "  \n",
        "def train2(category_tensor, input_line_tensor, target_line_tensor):\n",
        "    target_line_tensor.unsqueeze_(-1)\n",
        "    hidden = rnn2.initHidden()\n",
        "\n",
        "    rnn2.zero_grad()\n",
        "\n",
        "    loss = 0\n",
        "    \n",
        "    # first iteration, keep category_tensor\n",
        "    output, hidden = rnn2(category_tensor, input_line_tensor[0], hidden)\n",
        "    l = criterion(output, target_line_tensor[0])\n",
        "    loss += l\n",
        "    \n",
        "    # zero out the category tensor after the first iteration for both i2h and i2o\n",
        "    category_tensor = torch.zeros_like(category_tensor)\n",
        "    \n",
        "    for i in range(1, input_line_tensor.size(0)):\n",
        "        output, hidden = rnn2(category_tensor, input_line_tensor[i], hidden)\n",
        "        l = criterion(output, target_line_tensor[i])\n",
        "        loss += l\n",
        "\n",
        "    loss.backward()\n",
        "\n",
        "    for p in rnn2.parameters():\n",
        "        p.data.add_(-learning_rate, p.grad.data)\n",
        "\n",
        "    return output, loss.item() / input_line_tensor.size(0)\n",
        "  \n",
        "def test2(category_tensor, input_line_tensor, target_line_tensor):\n",
        "    target_line_tensor.unsqueeze_(-1)\n",
        "    hidden = rnn2.initHidden()\n",
        "\n",
        "    loss = 0\n",
        "    \n",
        "    # first iteration, keep category_tensor\n",
        "    output, hidden = rnn2(category_tensor, input_line_tensor[0], hidden)\n",
        "    l = criterion(output, target_line_tensor[0])\n",
        "    loss += l\n",
        "    \n",
        "    # zero out the category tensor after the first iteration for both i2h and i2o\n",
        "    category_tensor = torch.zeros_like(category_tensor)\n",
        "    \n",
        "    for i in range(1, input_line_tensor.size(0)):\n",
        "        output, hidden = rnn2(category_tensor, input_line_tensor[i], hidden)\n",
        "        l = criterion(output, target_line_tensor[i])\n",
        "        loss += l\n",
        "\n",
        "    return output, loss.item() / input_line_tensor.size(0)\n",
        "  \n",
        "def train3(category_tensor, input_line_tensor, target_line_tensor):\n",
        "    target_line_tensor.unsqueeze_(-1)\n",
        "    hidden = rnn3.initHidden()\n",
        "\n",
        "    rnn3.zero_grad()\n",
        "\n",
        "    loss = 0\n",
        "    \n",
        "    # zero out the input tensor at all iterations for i2h, already implemented in RNN3\n",
        "    for i in range(input_line_tensor.size(0)):\n",
        "        output, hidden = rnn3(category_tensor, input_line_tensor[i], hidden)\n",
        "        l = criterion(output, target_line_tensor[i])\n",
        "        loss += l\n",
        "\n",
        "    loss.backward()\n",
        "\n",
        "    for p in rnn3.parameters():\n",
        "        p.data.add_(-learning_rate, p.grad.data)\n",
        "\n",
        "    return output, loss.item() / input_line_tensor.size(0)\n",
        "\n",
        "def test3(category_tensor, input_line_tensor, target_line_tensor):\n",
        "    target_line_tensor.unsqueeze_(-1)\n",
        "    hidden = rnn3.initHidden()\n",
        "\n",
        "    loss = 0\n",
        "    \n",
        "    # zero out the input tensor at all iterations for i2h, already implemented in RNN3\n",
        "    for i in range(input_line_tensor.size(0)):\n",
        "        output, hidden = rnn3(category_tensor, input_line_tensor[i], hidden)\n",
        "        l = criterion(output, target_line_tensor[i])\n",
        "        loss += l\n",
        "        \n",
        "    return output, loss.item() / input_line_tensor.size(0)\n",
        "  \n",
        "def train4(category_tensor, input_line_tensor, target_line_tensor):\n",
        "    target_line_tensor.unsqueeze_(-1)\n",
        "    hidden = rnn4.initHidden()\n",
        "\n",
        "    rnn4.zero_grad()\n",
        "    \n",
        "    loss = 0\n",
        "    \n",
        "    # first iteration, keep category_tensor\n",
        "    output, hidden = rnn4(category_tensor, input_line_tensor[0], hidden)\n",
        "    l = criterion(output, target_line_tensor[0])\n",
        "    loss += l\n",
        "    \n",
        "    # zero out the category tensor after the first iteration for both i2h and i2o\n",
        "    category_tensor = torch.zeros_like(category_tensor)\n",
        "    \n",
        "    # zero out the input tensor at all iterations for i2h, already implemented in RNN3\n",
        "    for i in range(1, input_line_tensor.size(0)):\n",
        "        output, hidden = rnn4(category_tensor, input_line_tensor[i], hidden)\n",
        "        l = criterion(output, target_line_tensor[i])\n",
        "        loss += l\n",
        "\n",
        "    loss.backward()\n",
        "\n",
        "    for p in rnn4.parameters():\n",
        "        p.data.add_(-learning_rate, p.grad.data)\n",
        "\n",
        "    return output, loss.item() / input_line_tensor.size(0)\n",
        "  \n",
        "def test4(category_tensor, input_line_tensor, target_line_tensor):\n",
        "    target_line_tensor.unsqueeze_(-1)\n",
        "    hidden = rnn4.initHidden()\n",
        "    \n",
        "    loss = 0\n",
        "    \n",
        "    # first iteration, keep category_tensor\n",
        "    output, hidden = rnn4(category_tensor, input_line_tensor[0], hidden)\n",
        "    l = criterion(output, target_line_tensor[0])\n",
        "    loss += l\n",
        "    \n",
        "    # zero out the category tensor after the first iteration for both i2h and i2o\n",
        "    category_tensor = torch.zeros_like(category_tensor)\n",
        "    \n",
        "    # zero out the input tensor at all iterations for i2h, already implemented in RNN3\n",
        "    for i in range(1, input_line_tensor.size(0)):\n",
        "        output, hidden = rnn4(category_tensor, input_line_tensor[i], hidden)\n",
        "        l = criterion(output, target_line_tensor[i])\n",
        "        loss += l\n",
        "        \n",
        "    return output, loss.item() / input_line_tensor.size(0)"
      ],
      "execution_count": 0,
      "outputs": []
    },
    {
      "metadata": {
        "id": "hNqVhk0mLQ5I",
        "colab_type": "text"
      },
      "cell_type": "markdown",
      "source": [
        "To keep track of how long training takes I am adding a\n",
        "``timeSince(timestamp)`` function which returns a human readable string:\n",
        "\n",
        "\n"
      ]
    },
    {
      "metadata": {
        "id": "FakHg5olLQ5L",
        "colab_type": "code",
        "colab": {}
      },
      "cell_type": "code",
      "source": [
        "import time\n",
        "import math\n",
        "\n",
        "def timeSince(since):\n",
        "    now = time.time()\n",
        "    s = now - since\n",
        "    m = math.floor(s / 60)\n",
        "    s -= m * 60\n",
        "    return '%dm %ds' % (m, s)"
      ],
      "execution_count": 0,
      "outputs": []
    },
    {
      "metadata": {
        "id": "a1sL3ABSLQ5N",
        "colab_type": "text"
      },
      "cell_type": "markdown",
      "source": [
        "Training is business as usual - call train a bunch of times and wait a\n",
        "few minutes, printing the current time and loss every ``print_every``\n",
        "examples, and keeping store of an average loss per ``plot_every`` examples\n",
        "in ``all_losses`` for plotting later.\n",
        "\n",
        "\n"
      ]
    },
    {
      "metadata": {
        "id": "tsQ9Lqzai7s-",
        "colab_type": "code",
        "colab": {}
      },
      "cell_type": "code",
      "source": [
        "rnn = RNN(n_letters, 128, n_letters)\n",
        "rnn2 = RNN(n_letters, 128, n_letters)\n",
        "rnn3 = RNN3(n_letters, 128, n_letters)\n",
        "rnn4 = RNN3(n_letters, 128, n_letters)"
      ],
      "execution_count": 0,
      "outputs": []
    },
    {
      "metadata": {
        "id": "KL9Kra1Pi-Be",
        "colab_type": "text"
      },
      "cell_type": "markdown",
      "source": [
        "Model 1: previous hidden unit, previous character, category\n"
      ]
    },
    {
      "metadata": {
        "id": "lrf8MjnoLQ5R",
        "colab_type": "code",
        "outputId": "4113e727-daaa-4201-81b4-57aaba99c538",
        "colab": {
          "base_uri": "https://localhost:8080/",
          "height": 353
        }
      },
      "cell_type": "code",
      "source": [
        "n_iters = 100000\n",
        "print_every = 5000\n",
        "plot_every = 500\n",
        "all_losses = []\n",
        "total_loss = 0 # Reset every plot_every iters\n",
        "val_losses = []\n",
        "val_loss = 0\n",
        "\n",
        "start = time.time()\n",
        "\n",
        "for iter in range(1, n_iters + 1):\n",
        "    output, loss = train(*randomTrainingExample())\n",
        "    total_loss += loss\n",
        "    \n",
        "    _, loss2 = test(*randomTestExample())\n",
        "    val_loss += loss2\n",
        "\n",
        "    if iter % print_every == 0:\n",
        "        print('%s (%d %d%%) %.4f' % (timeSince(start), iter, iter / n_iters * 100, loss))\n",
        "\n",
        "    if iter % plot_every == 0:\n",
        "        all_losses.append(total_loss / plot_every)\n",
        "        total_loss = 0\n",
        "        val_losses.append(val_loss / plot_every)\n",
        "        val_loss = 0"
      ],
      "execution_count": 0,
      "outputs": [
        {
          "output_type": "stream",
          "text": [
            "0m 28s (5000 5%) 2.5550\n",
            "0m 56s (10000 10%) 2.4254\n",
            "1m 24s (15000 15%) 3.5410\n",
            "1m 53s (20000 20%) 3.4732\n",
            "2m 21s (25000 25%) 2.5560\n",
            "2m 50s (30000 30%) 3.0005\n",
            "3m 18s (35000 35%) 2.4482\n",
            "3m 46s (40000 40%) 3.5457\n",
            "4m 14s (45000 45%) 2.6106\n",
            "4m 43s (50000 50%) 2.1952\n",
            "5m 11s (55000 55%) 1.8218\n",
            "5m 39s (60000 60%) 1.6413\n",
            "6m 6s (65000 65%) 2.7755\n",
            "6m 34s (70000 70%) 2.9752\n",
            "7m 1s (75000 75%) 2.6903\n",
            "7m 29s (80000 80%) 2.0007\n",
            "7m 56s (85000 85%) 2.8014\n",
            "8m 23s (90000 90%) 1.7490\n",
            "8m 51s (95000 95%) 2.3166\n",
            "9m 18s (100000 100%) 2.3889\n"
          ],
          "name": "stdout"
        }
      ]
    },
    {
      "metadata": {
        "id": "wzV821UCjqI8",
        "colab_type": "text"
      },
      "cell_type": "markdown",
      "source": [
        "Model 2: previous hidden unit, previous character\n",
        "\n",
        "\n"
      ]
    },
    {
      "metadata": {
        "id": "ECBrgaILjwhg",
        "colab_type": "code",
        "outputId": "55823c8c-cb91-4963-a266-a4a5c971db3b",
        "colab": {
          "base_uri": "https://localhost:8080/",
          "height": 353
        }
      },
      "cell_type": "code",
      "source": [
        "n_iters = 100000\n",
        "print_every = 5000\n",
        "plot_every = 500\n",
        "all_losses_2 = []\n",
        "total_loss_2 = 0 # Reset every plot_every iters\n",
        "val_losses_2 = []\n",
        "val_loss_2 = 0\n",
        "\n",
        "start = time.time()\n",
        "\n",
        "for iter in range(1, n_iters + 1):\n",
        "    output, loss = train2(*randomTrainingExample())\n",
        "    total_loss_2 += loss\n",
        "    \n",
        "    _, loss2 = test2(*randomTestExample())\n",
        "    val_loss_2 += loss2\n",
        "\n",
        "    if iter % print_every == 0:\n",
        "        print('%s (%d %d%%) %.4f' % (timeSince(start), iter, iter / n_iters * 100, loss))\n",
        "\n",
        "    if iter % plot_every == 0:\n",
        "        all_losses_2.append(total_loss_2 / plot_every)\n",
        "        total_loss_2 = 0\n",
        "        val_losses_2.append(val_loss_2 / plot_every)\n",
        "        val_loss_2 = 0"
      ],
      "execution_count": 0,
      "outputs": [
        {
          "output_type": "stream",
          "text": [
            "0m 27s (5000 5%) 2.5439\n",
            "0m 54s (10000 10%) 2.4952\n",
            "1m 21s (15000 15%) 3.9216\n",
            "1m 49s (20000 20%) 2.8615\n",
            "2m 16s (25000 25%) 2.0008\n",
            "2m 43s (30000 30%) 4.1374\n",
            "3m 11s (35000 35%) 2.4763\n",
            "3m 38s (40000 40%) 3.2887\n",
            "4m 5s (45000 45%) 2.2508\n",
            "4m 33s (50000 50%) 2.1490\n",
            "5m 0s (55000 55%) 2.4356\n",
            "5m 28s (60000 60%) 2.9216\n",
            "5m 56s (65000 65%) 2.3239\n",
            "6m 23s (70000 70%) 2.8832\n",
            "6m 51s (75000 75%) 2.1698\n",
            "7m 19s (80000 80%) 2.2167\n",
            "7m 47s (85000 85%) 2.6068\n",
            "8m 15s (90000 90%) 1.8623\n",
            "8m 43s (95000 95%) 3.2692\n",
            "9m 11s (100000 100%) 2.0345\n"
          ],
          "name": "stdout"
        }
      ]
    },
    {
      "metadata": {
        "id": "Kf7gpCwZjw1I",
        "colab_type": "text"
      },
      "cell_type": "markdown",
      "source": [
        "  Model 3:  previous hidden unit, category\n"
      ]
    },
    {
      "metadata": {
        "id": "shSvLHgUjxFw",
        "colab_type": "code",
        "outputId": "d5c66c70-ac84-4142-af80-6ffc37e452bf",
        "colab": {
          "base_uri": "https://localhost:8080/",
          "height": 353
        }
      },
      "cell_type": "code",
      "source": [
        "n_iters = 100000\n",
        "print_every = 5000\n",
        "plot_every = 500\n",
        "all_losses_3 = []\n",
        "total_loss_3 = 0 # Reset every plot_every iters\n",
        "val_losses_3 = []\n",
        "val_loss_3 = 0\n",
        "\n",
        "start = time.time()\n",
        "\n",
        "for iter in range(1, n_iters + 1):\n",
        "    output, loss = train3(*randomTrainingExample())\n",
        "    total_loss_3 += loss\n",
        "    \n",
        "    _, loss2 = test3(*randomTestExample())\n",
        "    val_loss_3 += loss2\n",
        "\n",
        "    if iter % print_every == 0:\n",
        "        print('%s (%d %d%%) %.4f' % (timeSince(start), iter, iter / n_iters * 100, loss))\n",
        "\n",
        "    if iter % plot_every == 0:\n",
        "        all_losses_3.append(total_loss_3 / plot_every)\n",
        "        total_loss_3 = 0\n",
        "        val_losses_3.append(val_loss_3 / plot_every)\n",
        "        val_loss_3 = 0"
      ],
      "execution_count": 0,
      "outputs": [
        {
          "output_type": "stream",
          "text": [
            "0m 29s (5000 5%) 3.0431\n",
            "0m 58s (10000 10%) 2.0887\n",
            "1m 27s (15000 15%) 2.7416\n",
            "1m 56s (20000 20%) 2.2802\n",
            "2m 25s (25000 25%) 2.6067\n",
            "2m 54s (30000 30%) 2.4060\n",
            "3m 23s (35000 35%) 2.3714\n",
            "3m 52s (40000 40%) 2.3484\n",
            "4m 21s (45000 45%) 1.8603\n",
            "4m 50s (50000 50%) 2.4445\n",
            "5m 19s (55000 55%) 2.1098\n",
            "5m 48s (60000 60%) 2.0675\n",
            "6m 17s (65000 65%) 2.5232\n",
            "6m 46s (70000 70%) 3.0100\n",
            "7m 14s (75000 75%) 3.0887\n",
            "7m 43s (80000 80%) 2.0730\n",
            "8m 12s (85000 85%) 2.1330\n",
            "8m 41s (90000 90%) 2.4424\n",
            "9m 10s (95000 95%) 1.2878\n",
            "9m 39s (100000 100%) 3.1540\n"
          ],
          "name": "stdout"
        }
      ]
    },
    {
      "metadata": {
        "id": "ez55ngsvjxSw",
        "colab_type": "text"
      },
      "cell_type": "markdown",
      "source": [
        "Model 4: previous hidden unit"
      ]
    },
    {
      "metadata": {
        "id": "uDdWxKbJj5xn",
        "colab_type": "code",
        "outputId": "4acf8f52-0f96-4e96-b108-e9b8f15992ee",
        "colab": {
          "base_uri": "https://localhost:8080/",
          "height": 353
        }
      },
      "cell_type": "code",
      "source": [
        "n_iters = 100000\n",
        "print_every = 5000\n",
        "plot_every = 500\n",
        "all_losses_4 = []\n",
        "total_loss_4 = 0 # Reset every plot_every iters\n",
        "val_losses_4 = []\n",
        "val_loss_4 = 0\n",
        "\n",
        "start = time.time()\n",
        "\n",
        "for iter in range(1, n_iters + 1):\n",
        "    output, loss = train4(*randomTrainingExample())\n",
        "    total_loss_4 += loss\n",
        "    \n",
        "    _, loss2 = test4(*randomTestExample())\n",
        "    val_loss_4 += loss2\n",
        "\n",
        "    if iter % print_every == 0:\n",
        "        print('%s (%d %d%%) %.4f' % (timeSince(start), iter, iter / n_iters * 100, loss))\n",
        "\n",
        "    if iter % plot_every == 0:\n",
        "        all_losses_4.append(total_loss_4 / plot_every)\n",
        "        total_loss_4 = 0\n",
        "        val_losses_4.append(val_loss_4 / plot_every)\n",
        "        val_loss_4 = 0"
      ],
      "execution_count": 0,
      "outputs": [
        {
          "output_type": "stream",
          "text": [
            "0m 28s (5000 5%) 3.6196\n",
            "0m 57s (10000 10%) 3.3652\n",
            "1m 26s (15000 15%) 2.7145\n",
            "1m 55s (20000 20%) 2.2882\n",
            "2m 24s (25000 25%) 2.4334\n",
            "2m 53s (30000 30%) 2.3750\n",
            "3m 22s (35000 35%) 2.6182\n",
            "3m 51s (40000 40%) 2.8767\n",
            "4m 21s (45000 45%) 2.4517\n",
            "4m 50s (50000 50%) 3.1392\n",
            "5m 20s (55000 55%) 2.8589\n",
            "5m 49s (60000 60%) 2.8977\n",
            "6m 18s (65000 65%) 2.3866\n",
            "6m 48s (70000 70%) 3.1172\n",
            "7m 18s (75000 75%) 2.7884\n",
            "7m 48s (80000 80%) 2.4819\n",
            "8m 17s (85000 85%) 2.3766\n",
            "8m 47s (90000 90%) 2.1442\n",
            "9m 17s (95000 95%) 2.3124\n",
            "9m 46s (100000 100%) 2.5254\n"
          ],
          "name": "stdout"
        }
      ]
    },
    {
      "metadata": {
        "id": "x9WyYnQJLQ5V",
        "colab_type": "text"
      },
      "cell_type": "markdown",
      "source": [
        "Plotting the Losses\n",
        "-------------------\n",
        "\n",
        "Plotting the historical loss from all\\_losses shows the network\n",
        "learning:\n",
        "\n",
        "\n"
      ]
    },
    {
      "metadata": {
        "id": "0fXDa26Nksp_",
        "colab_type": "text"
      },
      "cell_type": "markdown",
      "source": [
        "Model 1"
      ]
    },
    {
      "metadata": {
        "id": "mbPPCb7gLQ5Y",
        "colab_type": "code",
        "outputId": "035a5e92-7c22-4d2a-8c12-39dd29b49b0c",
        "colab": {
          "base_uri": "https://localhost:8080/",
          "height": 530
        }
      },
      "cell_type": "code",
      "source": [
        "import matplotlib.pyplot as plt\n",
        "import matplotlib.ticker as ticker\n",
        "\n",
        "plt.figure()\n",
        "plt.plot(all_losses)\n",
        "plt.figure()\n",
        "plt.plot(val_losses)"
      ],
      "execution_count": 26,
      "outputs": [
        {
          "output_type": "execute_result",
          "data": {
            "text/plain": [
              "[<matplotlib.lines.Line2D at 0x7f8f46af89e8>]"
            ]
          },
          "metadata": {
            "tags": []
          },
          "execution_count": 26
        },
        {
          "output_type": "display_data",
          "data": {
            "image/png": "[encoded data removed]",
            "text/plain": [
              "<Figure size 432x288 with 1 Axes>"
            ]
          },
          "metadata": {
            "tags": []
          }
        },
        {
          "output_type": "display_data",
          "data": {
            "image/png": "[encoded data removed]",
            "text/plain": [
              "<Figure size 432x288 with 1 Axes>"
            ]
          },
          "metadata": {
            "tags": []
          }
        }
      ]
    },
    {
      "metadata": {
        "id": "P4hiBbwWnwqI",
        "colab_type": "code",
        "outputId": "38d179ef-ec43-41d7-e05a-c408608eff16",
        "colab": {
          "base_uri": "https://localhost:8080/",
          "height": 34
        }
      },
      "cell_type": "code",
      "source": [
        "print(\"Final validaton loss is: %f\" % val_losses[-1])"
      ],
      "execution_count": 0,
      "outputs": [
        {
          "output_type": "stream",
          "text": [
            "Final validaton loss is: 2.386896\n"
          ],
          "name": "stdout"
        }
      ]
    },
    {
      "metadata": {
        "id": "2O1QwugCkuMP",
        "colab_type": "text"
      },
      "cell_type": "markdown",
      "source": [
        "Model 2"
      ]
    },
    {
      "metadata": {
        "id": "3plds2jhkuY_",
        "colab_type": "code",
        "outputId": "985f7da0-fc61-4ab4-bf67-356bcb2a93de",
        "colab": {
          "base_uri": "https://localhost:8080/",
          "height": 530
        }
      },
      "cell_type": "code",
      "source": [
        "plt.figure()\n",
        "plt.plot(all_losses_2)\n",
        "plt.figure()\n",
        "plt.plot(val_losses_2)"
      ],
      "execution_count": 0,
      "outputs": [
        {
          "output_type": "execute_result",
          "data": {
            "text/plain": [
              "[<matplotlib.lines.Line2D at 0x7f8f46c162b0>]"
            ]
          },
          "metadata": {
            "tags": []
          },
          "execution_count": 19
        },
        {
          "output_type": "display_data",
          "data": {
            "image/png": "[encoded data removed]",
            "text/plain": [
              "<Figure size 432x288 with 1 Axes>"
            ]
          },
          "metadata": {
            "tags": []
          }
        },
        {
          "output_type": "display_data",
          "data": {
            "image/png": "[encoded data removed]",
            "text/plain": [
              "<Figure size 432x288 with 1 Axes>"
            ]
          },
          "metadata": {
            "tags": []
          }
        }
      ]
    },
    {
      "metadata": {
        "id": "wlKOXdDYoB1x",
        "colab_type": "code",
        "outputId": "be8823fb-498f-4aab-fd1b-931efe75715d",
        "colab": {
          "base_uri": "https://localhost:8080/",
          "height": 34
        }
      },
      "cell_type": "code",
      "source": [
        "print(\"Final validaton loss is: %f\" % val_losses_2[-1])"
      ],
      "execution_count": 0,
      "outputs": [
        {
          "output_type": "stream",
          "text": [
            "Final validaton loss is: 2.408706\n"
          ],
          "name": "stdout"
        }
      ]
    },
    {
      "metadata": {
        "id": "8zJsyvEMkuk3",
        "colab_type": "text"
      },
      "cell_type": "markdown",
      "source": [
        "Model 3"
      ]
    },
    {
      "metadata": {
        "id": "wXIQKoq-kuwX",
        "colab_type": "code",
        "outputId": "489b496d-a14a-41ef-cf95-9995a1604a74",
        "colab": {
          "base_uri": "https://localhost:8080/",
          "height": 530
        }
      },
      "cell_type": "code",
      "source": [
        "plt.figure()\n",
        "plt.plot(all_losses_3)\n",
        "plt.figure()\n",
        "plt.plot(val_losses_3)"
      ],
      "execution_count": 0,
      "outputs": [
        {
          "output_type": "execute_result",
          "data": {
            "text/plain": [
              "[<matplotlib.lines.Line2D at 0x7f8f46bd3080>]"
            ]
          },
          "metadata": {
            "tags": []
          },
          "execution_count": 21
        },
        {
          "output_type": "display_data",
          "data": {
            "image/png": "[encoded data removed]",
            "text/plain": [
              "<Figure size 432x288 with 1 Axes>"
            ]
          },
          "metadata": {
            "tags": []
          }
        },
        {
          "output_type": "display_data",
          "data": {
            "image/png": "[encoded data removed]",
            "text/plain": [
              "<Figure size 432x288 with 1 Axes>"
            ]
          },
          "metadata": {
            "tags": []
          }
        }
      ]
    },
    {
      "metadata": {
        "id": "YYg01_iXn_qZ",
        "colab_type": "code",
        "outputId": "6c37d2b3-5bdf-4835-90c2-4931a3cdbce1",
        "colab": {
          "base_uri": "https://localhost:8080/",
          "height": 34
        }
      },
      "cell_type": "code",
      "source": [
        "print(\"Final validaton loss is: %f\" % val_losses_3[-1])"
      ],
      "execution_count": 0,
      "outputs": [
        {
          "output_type": "stream",
          "text": [
            "Final validaton loss is: 2.409573\n"
          ],
          "name": "stdout"
        }
      ]
    },
    {
      "metadata": {
        "id": "bwexr5Rnku8X",
        "colab_type": "text"
      },
      "cell_type": "markdown",
      "source": [
        "Model 4"
      ]
    },
    {
      "metadata": {
        "id": "VFk97-ZOkvH_",
        "colab_type": "code",
        "outputId": "15230fcc-ee98-464d-d0cd-482d7f0c7f25",
        "colab": {
          "base_uri": "https://localhost:8080/",
          "height": 530
        }
      },
      "cell_type": "code",
      "source": [
        "plt.figure()\n",
        "plt.plot(all_losses_4)\n",
        "plt.figure()\n",
        "plt.plot(val_losses_4)"
      ],
      "execution_count": 0,
      "outputs": [
        {
          "output_type": "execute_result",
          "data": {
            "text/plain": [
              "[<matplotlib.lines.Line2D at 0x7f8f46baf390>]"
            ]
          },
          "metadata": {
            "tags": []
          },
          "execution_count": 23
        },
        {
          "output_type": "display_data",
          "data": {
            "image/png": "[encoded data removed]",
            "text/plain": [
              "<Figure size 432x288 with 1 Axes>"
            ]
          },
          "metadata": {
            "tags": []
          }
        },
        {
          "output_type": "display_data",
          "data": {
            "image/png": "[encoded data removed]",
            "text/plain": [
              "<Figure size 432x288 with 1 Axes>"
            ]
          },
          "metadata": {
            "tags": []
          }
        }
      ]
    },
    {
      "metadata": {
        "id": "L4iAi8qHoDjx",
        "colab_type": "code",
        "outputId": "05ad9aab-1239-461e-9ce1-2c8d1eb662cd",
        "colab": {
          "base_uri": "https://localhost:8080/",
          "height": 34
        }
      },
      "cell_type": "code",
      "source": [
        "print(\"Final validaton loss is: %f\" % val_losses_4[-1])"
      ],
      "execution_count": 0,
      "outputs": [
        {
          "output_type": "stream",
          "text": [
            "Final validaton loss is: 2.492100\n"
          ],
          "name": "stdout"
        }
      ]
    },
    {
      "metadata": {
        "id": "ncf55EXQBZqM",
        "colab_type": "code",
        "colab": {
          "base_uri": "https://localhost:8080/",
          "height": 296
        },
        "outputId": "b3c46d09-eba9-4c0f-b1b9-c27fc63f418e"
      },
      "cell_type": "code",
      "source": [
        "plt.figure()\n",
        "plt.plot(val_losses, label='Model 1')\n",
        "plt.plot(val_losses_2, label='Model 2')\n",
        "plt.plot(val_losses_3, label='Model 3')\n",
        "plt.plot(val_losses_4, label='Model 4')\n",
        "plt.xlabel(\"# of thousands of iterations\")\n",
        "plt.ylabel(\"validation negative log likelihood\")\n",
        "plt.legend()"
      ],
      "execution_count": 31,
      "outputs": [
        {
          "output_type": "execute_result",
          "data": {
            "text/plain": [
              "<matplotlib.legend.Legend at 0x7f8f466c68d0>"
            ]
          },
          "metadata": {
            "tags": []
          },
          "execution_count": 31
        },
        {
          "output_type": "display_data",
          "data": {
            "image/png": "[encoded data removed]",
            "text/plain": [
              "<Figure size 432x288 with 1 Axes>"
            ]
          },
          "metadata": {
            "tags": []
          }
        }
      ]
    },
    {
      "metadata": {
        "id": "KnJiPZwALQ5d",
        "colab_type": "text"
      },
      "cell_type": "markdown",
      "source": [
        "Sampling the Network\n",
        "====================\n",
        "\n",
        "To sample we give the network a letter and ask what the next one is,\n",
        "feed that in as the next letter, and repeat until the EOS token.\n",
        "\n",
        "-  Create tensors for input category, starting letter, and empty hidden\n",
        "   state\n",
        "-  Create a string ``output_name`` with the starting letter\n",
        "-  Up to a maximum output length,\n",
        "\n",
        "   -  Feed the current letter to the network\n",
        "   -  Get the next letter from highest output, and next hidden state\n",
        "   -  If the letter is EOS, stop here\n",
        "   -  If a regular letter, add to ``output_name`` and continue\n",
        "\n",
        "-  Return the final name\n",
        "\n",
        ".. Note::\n",
        "   Rather than having to give it a starting letter, another\n",
        "   strategy would have been to include a \"start of string\" token in\n",
        "   training and have the network choose its own starting letter.\n",
        "\n",
        "\n"
      ]
    },
    {
      "metadata": {
        "id": "0W-yjku-LQ5g",
        "colab_type": "code",
        "outputId": "4c3fcbe1-ea7c-4322-b86f-21442a247c14",
        "colab": {
          "base_uri": "https://localhost:8080/",
          "height": 218
        }
      },
      "cell_type": "code",
      "source": [
        "max_length = 20\n",
        "\n",
        "# Sample from a category and starting letter\n",
        "def sample(category, start_letter='A'):\n",
        "    with torch.no_grad():  # no need to track history in sampling\n",
        "        category_tensor = categoryTensor(category)\n",
        "        input = inputTensor(start_letter)\n",
        "        hidden = rnn.initHidden()\n",
        "\n",
        "        output_name = start_letter\n",
        "\n",
        "        for i in range(max_length):\n",
        "            output, hidden = rnn(category_tensor, input[0], hidden)\n",
        "            topv, topi = output.topk(1)\n",
        "            topi = topi[0][0]\n",
        "            if topi == n_letters - 1:\n",
        "                break\n",
        "            else:\n",
        "                letter = all_letters[topi]\n",
        "                output_name += letter\n",
        "            input = inputTensor(letter)\n",
        "\n",
        "        return output_name\n",
        "\n",
        "# Get multiple samples from one category and multiple starting letters\n",
        "def samples(category, start_letters='ABC'):\n",
        "    for start_letter in start_letters:\n",
        "        print(sample(category, start_letter))\n",
        "\n",
        "samples('Russian', 'RUS')\n",
        "\n",
        "samples('German', 'GER')\n",
        "\n",
        "samples('Spanish', 'SPA')\n",
        "\n",
        "samples('Chinese', 'CHI')"
      ],
      "execution_count": 0,
      "outputs": [
        {
          "output_type": "stream",
          "text": [
            "Rakis\n",
            "Uakinovev\n",
            "Sakierov\n",
            "Ganger\n",
            "Eeren\n",
            "Rour\n",
            "Santara\n",
            "Parez\n",
            "Alara\n",
            "Chan\n",
            "Hang\n",
            "Iin\n"
          ],
          "name": "stdout"
        }
      ]
    },
    {
      "metadata": {
        "id": "jNQwcPBVLQ5i",
        "colab_type": "text"
      },
      "cell_type": "markdown",
      "source": [
        "Exercises\n",
        "=========\n",
        "\n",
        "-  Try with a different dataset of category -> line, for example:\n",
        "\n",
        "   -  Fictional series -> Character name\n",
        "   -  Part of speech -> Word\n",
        "   -  Country -> City\n",
        "\n",
        "-  Use a \"start of sentence\" token so that sampling can be done without\n",
        "   choosing a start letter\n",
        "-  Get better results with a bigger and/or better shaped network\n",
        "\n",
        "   -  Try the nn.LSTM and nn.GRU layers\n",
        "   -  Combine multiple of these RNNs as a higher level network\n",
        "\n",
        "\n"
      ]
    }
  ]
}