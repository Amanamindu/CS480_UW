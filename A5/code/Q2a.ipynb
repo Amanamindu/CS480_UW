{
  "nbformat": 4,
  "nbformat_minor": 0,
  "metadata": {
    "colab": {
      "name": "Copy of char_rnn_classification_tutorial.ipynb",
      "version": "0.3.2",
      "provenance": [],
      "collapsed_sections": []
    },
    "kernelspec": {
      "name": "python3",
      "display_name": "Python 3"
    },
    "accelerator": "GPU"
  },
  "cells": [
    {
      "metadata": {
        "id": "Q_sJsygbuVNI",
        "colab_type": "text"
      },
      "cell_type": "markdown",
      "source": [
        "Download the dataset"
      ]
    },
    {
      "metadata": {
        "id": "E4FXmcNLuTgG",
        "colab_type": "code",
        "outputId": "0fdf1fa1-ed42-42f0-c677-947276069ad8",
        "colab": {
          "base_uri": "https://localhost:8080/",
          "height": 554
        }
      },
      "cell_type": "code",
      "source": [
        "!wget https://download.pytorch.org/tutorial/data.zip \n",
        "!unzip data.zip "
      ],
      "execution_count": 1,
      "outputs": [
        {
          "output_type": "stream",
          "text": [
            "--2019-04-08 08:59:04--  https://download.pytorch.org/tutorial/data.zip\n",
            "Resolving download.pytorch.org (download.pytorch.org)... 13.249.142.115, 13.249.142.107, 13.249.142.26, ...\n",
            "Connecting to download.pytorch.org (download.pytorch.org)|13.249.142.115|:443... connected.\n",
            "HTTP request sent, awaiting response... 200 OK\n",
            "Length: 2882130 (2.7M) [application/zip]\n",
            "Saving to: ‘data.zip.4’\n",
            "\n",
            "\rdata.zip.4            0%[                    ]       0  --.-KB/s               \rdata.zip.4          100%[===================>]   2.75M  --.-KB/s    in 0.06s   \n",
            "\n",
            "2019-04-08 08:59:04 (42.5 MB/s) - ‘data.zip.4’ saved [2882130/2882130]\n",
            "\n",
            "Archive:  data.zip\n",
            "replace data/eng-fra.txt? [y]es, [n]o, [A]ll, [N]one, [r]ename: A\n",
            "  inflating: data/eng-fra.txt        \n",
            "  inflating: data/names/Arabic.txt   \n",
            "  inflating: data/names/Chinese.txt  \n",
            "  inflating: data/names/Czech.txt    \n",
            "  inflating: data/names/Dutch.txt    \n",
            "  inflating: data/names/English.txt  \n",
            "  inflating: data/names/French.txt   \n",
            "  inflating: data/names/German.txt   \n",
            "  inflating: data/names/Greek.txt    \n",
            "  inflating: data/names/Irish.txt    \n",
            "  inflating: data/names/Italian.txt  \n",
            "  inflating: data/names/Japanese.txt  \n",
            "  inflating: data/names/Korean.txt   \n",
            "  inflating: data/names/Polish.txt   \n",
            "  inflating: data/names/Portuguese.txt  \n",
            "  inflating: data/names/Russian.txt  \n",
            "  inflating: data/names/Scottish.txt  \n",
            "  inflating: data/names/Spanish.txt  \n",
            "  inflating: data/names/Vietnamese.txt  \n"
          ],
          "name": "stdout"
        }
      ]
    },
    {
      "metadata": {
        "id": "xpE_rUbpk1nl",
        "colab_type": "code",
        "colab": {}
      },
      "cell_type": "code",
      "source": [
        "%matplotlib inline"
      ],
      "execution_count": 0,
      "outputs": []
    },
    {
      "metadata": {
        "id": "_i3aogwMk1n_",
        "colab_type": "text"
      },
      "cell_type": "markdown",
      "source": [
        "\n",
        "Classifying Names with a Character-Level RNN\n",
        "*********************************************\n",
        "**Author**: `Sean Robertson <https://github.com/spro/practical-pytorch>`_\n",
        "\n",
        "We will be building and training a basic character-level RNN to classify\n",
        "words. A character-level RNN reads words as a series of characters -\n",
        "outputting a prediction and \"hidden state\" at each step, feeding its\n",
        "previous hidden state into each next step. We take the final prediction\n",
        "to be the output, i.e. which class the word belongs to.\n",
        "\n",
        "Specifically, we'll train on a few thousand surnames from 18 languages\n",
        "of origin, and predict which language a name is from based on the\n",
        "spelling:\n",
        "\n",
        "::\n",
        "\n",
        "    $ python predict.py Hinton\n",
        "    (-0.47) Scottish\n",
        "    (-1.52) English\n",
        "    (-3.57) Irish\n",
        "\n",
        "    $ python predict.py Schmidhuber\n",
        "    (-0.19) German\n",
        "    (-2.48) Czech\n",
        "    (-2.68) Dutch\n",
        "\n",
        "\n",
        "**Recommended Reading:**\n",
        "\n",
        "I assume you have at least installed PyTorch, know Python, and\n",
        "understand Tensors:\n",
        "\n",
        "-  http://pytorch.org/ For installation instructions\n",
        "-  :doc:`/beginner/deep_learning_60min_blitz` to get started with PyTorch in general\n",
        "-  :doc:`/beginner/pytorch_with_examples` for a wide and deep overview\n",
        "-  :doc:`/beginner/former_torchies_tutorial` if you are former Lua Torch user\n",
        "\n",
        "It would also be useful to know about RNNs and how they work:\n",
        "\n",
        "-  `The Unreasonable Effectiveness of Recurrent Neural\n",
        "   Networks <http://karpathy.github.io/2015/05/21/rnn-effectiveness/>`__\n",
        "   shows a bunch of real life examples\n",
        "-  `Understanding LSTM\n",
        "   Networks <http://colah.github.io/posts/2015-08-Understanding-LSTMs/>`__\n",
        "   is about LSTMs specifically but also informative about RNNs in\n",
        "   general\n",
        "\n",
        "Preparing the Data\n",
        "==================\n",
        "\n",
        ".. Note::\n",
        "   Download the data from\n",
        "   `here <https://download.pytorch.org/tutorial/data.zip>`_\n",
        "   and extract it to the current directory.\n",
        "\n",
        "Included in the ``data/names`` directory are 18 text files named as\n",
        "\"[Language].txt\". Each file contains a bunch of names, one name per\n",
        "line, mostly romanized (but we still need to convert from Unicode to\n",
        "ASCII).\n",
        "\n",
        "We'll end up with a dictionary of lists of names per language,\n",
        "``{language: [names ...]}``. The generic variables \"category\" and \"line\"\n",
        "(for language and name in our case) are used for later extensibility.\n",
        "\n"
      ]
    },
    {
      "metadata": {
        "id": "KJuuSDMAk1oG",
        "colab_type": "code",
        "outputId": "411b123c-c630-4ecc-d551-ab3e82f887b7",
        "colab": {
          "base_uri": "https://localhost:8080/",
          "height": 70
        }
      },
      "cell_type": "code",
      "source": [
        "from __future__ import unicode_literals, print_function, division\n",
        "from io import open\n",
        "import glob\n",
        "import os\n",
        "\n",
        "def findFiles(path): return glob.glob(path)\n",
        "\n",
        "print(findFiles('data/names/*.txt'))\n",
        "\n",
        "import unicodedata\n",
        "import string\n",
        "\n",
        "all_letters = string.ascii_letters + \" .,;'\"\n",
        "n_letters = len(all_letters)\n",
        "\n",
        "# Turn a Unicode string to plain ASCII, thanks to http://stackoverflow.com/a/518232/2809427\n",
        "def unicodeToAscii(s):\n",
        "    return ''.join(\n",
        "        c for c in unicodedata.normalize('NFD', s)\n",
        "        if unicodedata.category(c) != 'Mn'\n",
        "        and c in all_letters\n",
        "    )\n",
        "\n",
        "print(unicodeToAscii('Ślusàrski'))\n",
        "\n",
        "# Build the category_lines dictionary, a list of names per language\n",
        "category_lines = {}\n",
        "all_categories = []\n",
        "\n",
        "# Read a file and split into lines\n",
        "def readLines(filename):\n",
        "    lines = open(filename, encoding='utf-8').read().strip().split('\\n')\n",
        "    return [unicodeToAscii(line) for line in lines]\n",
        "\n",
        "for filename in findFiles('data/names/*.txt'):\n",
        "    category = os.path.splitext(os.path.basename(filename))[0]\n",
        "    all_categories.append(category)\n",
        "    lines = readLines(filename)\n",
        "    category_lines[category] = lines\n",
        "\n",
        "n_categories = len(all_categories)"
      ],
      "execution_count": 3,
      "outputs": [
        {
          "output_type": "stream",
          "text": [
            "['data/names/Dutch.txt', 'data/names/Vietnamese.txt', 'data/names/French.txt', 'data/names/Japanese.txt', 'data/names/Italian.txt', 'data/names/Polish.txt', 'data/names/Russian.txt', 'data/names/German.txt', 'data/names/Irish.txt', 'data/names/Spanish.txt', 'data/names/Portuguese.txt', 'data/names/Arabic.txt', 'data/names/Chinese.txt', 'data/names/English.txt', 'data/names/Czech.txt', 'data/names/Greek.txt', 'data/names/Korean.txt', 'data/names/Scottish.txt']\n",
            "Slusarski\n"
          ],
          "name": "stdout"
        }
      ]
    },
    {
      "metadata": {
        "id": "40at36Kok1oX",
        "colab_type": "text"
      },
      "cell_type": "markdown",
      "source": [
        "Now we have ``category_lines``, a dictionary mapping each category\n",
        "(language) to a list of lines (names). We also kept track of\n",
        "``all_categories`` (just a list of languages) and ``n_categories`` for\n",
        "later reference.\n",
        "\n",
        "\n"
      ]
    },
    {
      "metadata": {
        "colab_type": "code",
        "outputId": "35c2c05e-0c9f-40e9-a606-2fc5bcb556b7",
        "id": "5Pnt1EDRuj0q",
        "colab": {
          "base_uri": "https://localhost:8080/",
          "height": 34
        }
      },
      "cell_type": "code",
      "source": [
        "print(category_lines['Italian'][:5])"
      ],
      "execution_count": 4,
      "outputs": [
        {
          "output_type": "stream",
          "text": [
            "['Abandonato', 'Abatangelo', 'Abatantuono', 'Abate', 'Abategiovanni']\n"
          ],
          "name": "stdout"
        }
      ]
    },
    {
      "metadata": {
        "id": "nkpP1Ql0ulrK",
        "colab_type": "code",
        "colab": {}
      },
      "cell_type": "code",
      "source": [
        "import random\n",
        "\n",
        "# divide data into 20% validation and 80% training\n",
        "category_lines_train = {}\n",
        "category_lines_val = {}\n",
        "for key in category_lines.keys():\n",
        "  random.shuffle(category_lines[key])\n",
        "  splitpoint = int(len(category_lines[key]) * 0.2)\n",
        "  category_lines_val[key] = category_lines[key][:splitpoint]\n",
        "  category_lines_train[key] = category_lines[key][splitpoint:]"
      ],
      "execution_count": 0,
      "outputs": []
    },
    {
      "metadata": {
        "id": "THb-JZA9k1op",
        "colab_type": "text"
      },
      "cell_type": "markdown",
      "source": [
        "Turning Names into Tensors\n",
        "--------------------------\n",
        "\n",
        "Now that we have all the names organized, we need to turn them into\n",
        "Tensors to make any use of them.\n",
        "\n",
        "To represent a single letter, we use a \"one-hot vector\" of size\n",
        "``<1 x n_letters>``. A one-hot vector is filled with 0s except for a 1\n",
        "at index of the current letter, e.g. ``\"b\" = <0 1 0 0 0 ...>``.\n",
        "\n",
        "To make a word we join a bunch of those into a 2D matrix\n",
        "``<line_length x 1 x n_letters>``.\n",
        "\n",
        "That extra 1 dimension is because PyTorch assumes everything is in\n",
        "batches - we're just using a batch size of 1 here.\n",
        "\n",
        "\n"
      ]
    },
    {
      "metadata": {
        "id": "iAx0W0Bpk1os",
        "colab_type": "code",
        "outputId": "a4d394e1-3759-493c-9425-f02655a8bd80",
        "colab": {
          "base_uri": "https://localhost:8080/",
          "height": 101
        }
      },
      "cell_type": "code",
      "source": [
        "import torch\n",
        "\n",
        "# Find letter index from all_letters, e.g. \"a\" = 0\n",
        "def letterToIndex(letter):\n",
        "    return all_letters.find(letter)\n",
        "\n",
        "# Just for demonstration, turn a letter into a <1 x n_letters> Tensor\n",
        "def letterToTensor(letter):\n",
        "    tensor = torch.zeros(1, n_letters)\n",
        "    tensor[0][letterToIndex(letter)] = 1\n",
        "    return tensor\n",
        "\n",
        "# Turn a line into a <line_length x 1 x n_letters>,\n",
        "# or an array of one-hot letter vectors\n",
        "def lineToTensor(line):\n",
        "    tensor = torch.zeros(len(line), 1, n_letters)\n",
        "    for li, letter in enumerate(line):\n",
        "        tensor[li][0][letterToIndex(letter)] = 1\n",
        "    return tensor\n",
        "\n",
        "print(letterToTensor('J'))\n",
        "\n",
        "print(lineToTensor('Jones').size())"
      ],
      "execution_count": 6,
      "outputs": [
        {
          "output_type": "stream",
          "text": [
            "tensor([[0., 0., 0., 0., 0., 0., 0., 0., 0., 0., 0., 0., 0., 0., 0., 0., 0., 0.,\n",
            "         0., 0., 0., 0., 0., 0., 0., 0., 0., 0., 0., 0., 0., 0., 0., 0., 0., 1.,\n",
            "         0., 0., 0., 0., 0., 0., 0., 0., 0., 0., 0., 0., 0., 0., 0., 0., 0., 0.,\n",
            "         0., 0., 0.]])\n",
            "torch.Size([5, 1, 57])\n"
          ],
          "name": "stdout"
        }
      ]
    },
    {
      "metadata": {
        "id": "3-YF9CXvk1o2",
        "colab_type": "text"
      },
      "cell_type": "markdown",
      "source": [
        "Creating the Network\n",
        "====================\n",
        "\n",
        "Before autograd, creating a recurrent neural network in Torch involved\n",
        "cloning the parameters of a layer over several timesteps. The layers\n",
        "held hidden state and gradients which are now entirely handled by the\n",
        "graph itself. This means you can implement a RNN in a very \"pure\" way,\n",
        "as regular feed-forward layers.\n",
        "\n",
        "This RNN module (mostly copied from `the PyTorch for Torch users\n",
        "tutorial <http://pytorch.org/tutorials/beginner/former_torchies/\n",
        "nn_tutorial.html#example-2-recurrent-net>`__)\n",
        "is just 2 linear layers which operate on an input and hidden state, with\n",
        "a LogSoftmax layer after the output.\n",
        "\n",
        ".. figure:: https://i.imgur.com/Z2xbySO.png\n",
        "   :alt:\n",
        "\n",
        "\n",
        "\n"
      ]
    },
    {
      "metadata": {
        "id": "axJungRkk1o4",
        "colab_type": "code",
        "colab": {}
      },
      "cell_type": "code",
      "source": [
        "import torch.nn as nn\n",
        "\n",
        "# Linear hidden units\n",
        "class RNN(nn.Module):\n",
        "    def __init__(self, input_size, hidden_size, output_size):\n",
        "        super(RNN, self).__init__()\n",
        "\n",
        "        self.hidden_size = hidden_size\n",
        "\n",
        "        self.i2h = nn.Linear(input_size + hidden_size, hidden_size)\n",
        "        self.i2o = nn.Linear(input_size + hidden_size, output_size)\n",
        "        self.softmax = nn.LogSoftmax(dim=1)\n",
        "\n",
        "    def forward(self, input, hidden):\n",
        "        combined = torch.cat((input, hidden), 1)\n",
        "        hidden = self.i2h(combined)\n",
        "        output = self.i2o(combined)\n",
        "        output = self.softmax(output)\n",
        "        return output, hidden\n",
        "\n",
        "    def initHidden(self):\n",
        "        return torch.zeros(1, self.hidden_size)\n",
        "\n",
        "n_hidden = 128\n",
        "rnn = RNN(n_letters, n_hidden, n_categories)"
      ],
      "execution_count": 0,
      "outputs": []
    },
    {
      "metadata": {
        "colab_type": "code",
        "id": "WMfq21Hyy8rb",
        "colab": {}
      },
      "cell_type": "code",
      "source": [
        "# Gated recurrent units (GRU)\n",
        "\n",
        "class GRU(nn.Module):\n",
        "    def __init__(self, input_size, hidden_size, output_size):\n",
        "        super(GRU, self).__init__()\n",
        "\n",
        "        self.hidden_size = hidden_size\n",
        "\n",
        "        # self.i2h = nn.Linear(input_size + hidden_size, hidden_size)\n",
        "        self.i2h = nn.GRUCell(input_size + hidden_size, hidden_size)\n",
        "        self.i2o = nn.Linear(input_size + hidden_size, output_size)\n",
        "        self.softmax = nn.LogSoftmax(dim=1)\n",
        "\n",
        "    def forward(self, input, hidden):\n",
        "        combined = torch.cat((input, hidden), 1)\n",
        "        hidden = self.i2h(combined)\n",
        "        output = self.i2o(combined)\n",
        "        output = self.softmax(output)\n",
        "        return output, hidden\n",
        "\n",
        "    def initHidden(self):\n",
        "        return torch.zeros(1, self.hidden_size)\n",
        "\n",
        "n_hidden = 128\n",
        "gru = GRU(n_letters, n_hidden, n_categories)"
      ],
      "execution_count": 0,
      "outputs": []
    },
    {
      "metadata": {
        "id": "D5Ux3-Bky-BZ",
        "colab_type": "code",
        "colab": {}
      },
      "cell_type": "code",
      "source": [
        "# Long short term memory units (LSTM)\n",
        "\n",
        "class LSTM(nn.Module):\n",
        "    def __init__(self, input_size, hidden_size, output_size):\n",
        "        super(LSTM, self).__init__()\n",
        "\n",
        "        self.hidden_size = hidden_size\n",
        "\n",
        "        # self.i2h = nn.Linear(input_size + hidden_size, hidden_size)\n",
        "        self.i2h = nn.LSTMCell(input_size + hidden_size + hidden_size, hidden_size)\n",
        "        self.i2o = nn.Linear(input_size + hidden_size, output_size)\n",
        "        self.softmax = nn.LogSoftmax(dim=1)\n",
        "\n",
        "    def forward(self, input, hidden, cell):\n",
        "        combined_o = torch.cat((input, hidden), 1)\n",
        "        combined_hc = torch.cat((input, hidden, cell), 1)\n",
        "        hidden, cell = self.i2h(combined_hc)\n",
        "        output = self.i2o(combined_o)\n",
        "        output = self.softmax(output)\n",
        "        return output, hidden, cell\n",
        "\n",
        "    def initHidden(self):\n",
        "        return torch.zeros(1, self.hidden_size)\n",
        "      \n",
        "    def initCell(self):\n",
        "        return torch.zeros(1, self.hidden_size)\n",
        "\n",
        "n_hidden = 128\n",
        "lstm = LSTM(n_letters, n_hidden, n_categories)"
      ],
      "execution_count": 0,
      "outputs": []
    },
    {
      "metadata": {
        "id": "BK0fM9Vsk1pB",
        "colab_type": "text"
      },
      "cell_type": "markdown",
      "source": [
        "To run a step of this network we need to pass an input (in our case, the\n",
        "Tensor for the current letter) and a previous hidden state (which we\n",
        "initialize as zeros at first). We'll get back the output (probability of\n",
        "each language) and a next hidden state (which we keep for the next\n",
        "step).\n",
        "\n",
        "\n"
      ]
    },
    {
      "metadata": {
        "id": "QdeqdPfrk1pD",
        "colab_type": "code",
        "colab": {}
      },
      "cell_type": "code",
      "source": [
        "input = letterToTensor('A')\n",
        "hidden = torch.zeros(1, n_hidden)\n",
        "cell = torch.zeros(1, n_hidden)\n",
        "output, next_hidden = rnn(input, hidden)"
      ],
      "execution_count": 0,
      "outputs": []
    },
    {
      "metadata": {
        "id": "fjsqnabtk1pI",
        "colab_type": "text"
      },
      "cell_type": "markdown",
      "source": [
        "For the sake of efficiency we don't want to be creating a new Tensor for\n",
        "every step, so we will use ``lineToTensor`` instead of\n",
        "``letterToTensor`` and use slices. This could be further optimized by\n",
        "pre-computing batches of Tensors.\n",
        "\n",
        "\n"
      ]
    },
    {
      "metadata": {
        "id": "8X2bWzCuk1pL",
        "colab_type": "code",
        "outputId": "ba5b95a2-5f71-4e47-ee1a-fcc40f7470b3",
        "colab": {
          "base_uri": "https://localhost:8080/",
          "height": 67
        }
      },
      "cell_type": "code",
      "source": [
        "input = lineToTensor('Albert')\n",
        "hidden = torch.zeros(1, n_hidden)\n",
        "\n",
        "output, next_hidden = rnn(input[0], hidden)\n",
        "output, next_hidden = gru(input[0], hidden)\n",
        "output, next_hidden, next_cell = lstm(input[0], hidden, cell)\n",
        "print(output)"
      ],
      "execution_count": 11,
      "outputs": [
        {
          "output_type": "stream",
          "text": [
            "tensor([[-2.9139, -2.9336, -2.8442, -2.9018, -2.9482, -2.9658, -2.8479, -2.9222,\n",
            "         -2.9438, -2.9207, -2.8690, -2.9333, -2.8526, -2.7974, -2.8788, -2.8545,\n",
            "         -2.9135, -2.8063]], grad_fn=<LogSoftmaxBackward>)\n"
          ],
          "name": "stdout"
        }
      ]
    },
    {
      "metadata": {
        "id": "qS4ZO0gtk1pR",
        "colab_type": "text"
      },
      "cell_type": "markdown",
      "source": [
        "As you can see the output is a ``<1 x n_categories>`` Tensor, where\n",
        "every item is the likelihood of that category (higher is more likely).\n",
        "\n",
        "\n"
      ]
    },
    {
      "metadata": {
        "id": "P6GDh9gQk1pV",
        "colab_type": "text"
      },
      "cell_type": "markdown",
      "source": [
        "Training\n",
        "========\n",
        "Preparing for Training\n",
        "----------------------\n",
        "\n",
        "Before going into training we should make a few helper functions. The\n",
        "first is to interpret the output of the network, which we know to be a\n",
        "likelihood of each category. We can use ``Tensor.topk`` to get the index\n",
        "of the greatest value:\n",
        "\n",
        "\n"
      ]
    },
    {
      "metadata": {
        "id": "sjz8CW3Pk1pX",
        "colab_type": "code",
        "outputId": "1e8cea50-e748-4af4-c6d0-96e641ce0a1f",
        "colab": {
          "base_uri": "https://localhost:8080/",
          "height": 34
        }
      },
      "cell_type": "code",
      "source": [
        "def categoryFromOutput(output):\n",
        "    top_n, top_i = output.topk(1)\n",
        "    category_i = top_i[0].item()\n",
        "    return all_categories[category_i], category_i\n",
        "\n",
        "print(categoryFromOutput(output))"
      ],
      "execution_count": 12,
      "outputs": [
        {
          "output_type": "stream",
          "text": [
            "('English', 13)\n"
          ],
          "name": "stdout"
        }
      ]
    },
    {
      "metadata": {
        "id": "MgRG4Woqk1pc",
        "colab_type": "text"
      },
      "cell_type": "markdown",
      "source": [
        "We will also want a quick way to get a training example (a name and its\n",
        "language):\n",
        "\n",
        "\n"
      ]
    },
    {
      "metadata": {
        "id": "K2la3kzek1pd",
        "colab_type": "code",
        "outputId": "3cda93de-c0c4-4c60-cec9-c05822c41186",
        "colab": {
          "base_uri": "https://localhost:8080/",
          "height": 185
        }
      },
      "cell_type": "code",
      "source": [
        "import random\n",
        "\n",
        "def randomChoice(l):\n",
        "    return l[random.randint(0, len(l) - 1)]\n",
        "\n",
        "'''\n",
        "def randomTrainingExample():\n",
        "    category = randomChoice(all_categories)\n",
        "    line = randomChoice(category_lines[category])\n",
        "    category_tensor = torch.tensor([all_categories.index(category)], dtype=torch.long)\n",
        "    line_tensor = lineToTensor(line)\n",
        "    return category, line, category_tensor, line_tensor\n",
        "'''\n",
        "\n",
        "def randomTrainingExample():\n",
        "    category = randomChoice(all_categories)\n",
        "    line = randomChoice(category_lines_train[category])\n",
        "    category_tensor = torch.tensor([all_categories.index(category)], dtype=torch.long)\n",
        "    line_tensor = lineToTensor(line)\n",
        "    return category, line, category_tensor, line_tensor\n",
        "\n",
        "\n",
        "for i in range(10):\n",
        "    category, line, category_tensor, line_tensor = randomTrainingExample()\n",
        "    print('category =', category, '/ line =', line)\n",
        "    \n",
        "def randomTestExample():\n",
        "    category = randomChoice(all_categories)\n",
        "    line = randomChoice(category_lines_val[category])\n",
        "    category_tensor = torch.tensor([all_categories.index(category)], dtype=torch.long)\n",
        "    line_tensor = lineToTensor(line)\n",
        "    return category, line, category_tensor, line_tensor"
      ],
      "execution_count": 13,
      "outputs": [
        {
          "output_type": "stream",
          "text": [
            "category = Spanish / line = Salinas\n",
            "category = Dutch / line = Haanrath\n",
            "category = Spanish / line = Agramunt\n",
            "category = German / line = Fuhrmann\n",
            "category = Scottish / line = Murphy\n",
            "category = Italian / line = Dinapoli\n",
            "category = Arabic / line = Wasem\n",
            "category = Italian / line = Altimari\n",
            "category = English / line = Hume\n",
            "category = Korean / line = Jeon\n"
          ],
          "name": "stdout"
        }
      ]
    },
    {
      "metadata": {
        "id": "ovrW9-jCk1pi",
        "colab_type": "text"
      },
      "cell_type": "markdown",
      "source": [
        "Training the Network\n",
        "--------------------\n",
        "\n",
        "Now all it takes to train this network is show it a bunch of examples,\n",
        "have it make guesses, and tell it if it's wrong.\n",
        "\n",
        "For the loss function ``nn.NLLLoss`` is appropriate, since the last\n",
        "layer of the RNN is ``nn.LogSoftmax``.\n",
        "\n",
        "\n"
      ]
    },
    {
      "metadata": {
        "id": "lonF0KI3k1pk",
        "colab_type": "code",
        "colab": {}
      },
      "cell_type": "code",
      "source": [
        "criterion = nn.NLLLoss()"
      ],
      "execution_count": 0,
      "outputs": []
    },
    {
      "metadata": {
        "id": "PFVircUSk1pq",
        "colab_type": "text"
      },
      "cell_type": "markdown",
      "source": [
        "Each loop of training will:\n",
        "\n",
        "-  Create input and target tensors\n",
        "-  Create a zeroed initial hidden state\n",
        "-  Read each letter in and\n",
        "\n",
        "   -  Keep hidden state for next letter\n",
        "\n",
        "-  Compare final output to target\n",
        "-  Back-propagate\n",
        "-  Return the output and loss\n",
        "\n",
        "\n"
      ]
    },
    {
      "metadata": {
        "id": "Fz-8MjRNk1pr",
        "colab_type": "code",
        "colab": {}
      },
      "cell_type": "code",
      "source": [
        "learning_rate = 0.005 # If you set this too high, it might explode. If too low, it might not learn\n",
        "\n",
        "def train(category_tensor, line_tensor):\n",
        "    hidden = rnn.initHidden()\n",
        "\n",
        "    rnn.zero_grad()\n",
        "\n",
        "    for i in range(line_tensor.size()[0]):\n",
        "        output, hidden = rnn(line_tensor[i], hidden)\n",
        "\n",
        "    loss = criterion(output, category_tensor)\n",
        "    loss.backward()\n",
        "\n",
        "    # Add parameters' gradients to their values, multiplied by learning rate\n",
        "    for p in rnn.parameters():\n",
        "        p.data.add_(-learning_rate, p.grad.data)\n",
        "\n",
        "    return output, loss.item()\n",
        "  \n",
        "def train_gru(category_tensor, line_tensor):\n",
        "    hidden = gru.initHidden()\n",
        "\n",
        "    gru.zero_grad()\n",
        "\n",
        "    for i in range(line_tensor.size()[0]):\n",
        "        output, hidden = gru(line_tensor[i], hidden)\n",
        "\n",
        "    loss = criterion(output, category_tensor)\n",
        "    loss.backward()\n",
        "\n",
        "    # Add parameters' gradients to their values, multiplied by learning rate\n",
        "    for p in gru.parameters():\n",
        "        p.data.add_(-learning_rate, p.grad.data)\n",
        "\n",
        "    return output, loss.item()\n",
        "  \n",
        "def train_lstm(category_tensor, line_tensor):\n",
        "    hidden = lstm.initHidden()\n",
        "    cell = lstm.initCell()\n",
        "\n",
        "    lstm.zero_grad()\n",
        "\n",
        "    for i in range(line_tensor.size()[0]):\n",
        "        output, hidden, cell = lstm(line_tensor[i], hidden, cell)\n",
        "\n",
        "    loss = criterion(output, category_tensor)\n",
        "    loss.backward()\n",
        "\n",
        "    # Add parameters' gradients to their values, multiplied by learning rate\n",
        "    for p in lstm.parameters():\n",
        "        p.data.add_(-learning_rate, p.grad.data)\n",
        "\n",
        "    return output, loss.item()\n",
        "\n",
        "def test(category_tensor, line_tensor):\n",
        "    hidden = rnn.initHidden()\n",
        "\n",
        "    for i in range(line_tensor.size()[0]):\n",
        "        output, hidden = rnn(line_tensor[i], hidden)\n",
        "        \n",
        "    loss = criterion(output, category_tensor)\n",
        "\n",
        "    return output, loss.item()\n",
        "  \n",
        "def test_gru(category_tensor, line_tensor):\n",
        "    hidden = gru.initHidden()\n",
        "\n",
        "    for i in range(line_tensor.size()[0]):\n",
        "        output, hidden = gru(line_tensor[i], hidden)\n",
        "        \n",
        "    loss = criterion(output, category_tensor)\n",
        "\n",
        "    return output, loss.item()\n",
        "  \n",
        "def test_lstm(category_tensor, line_tensor):\n",
        "    hidden = lstm.initHidden()\n",
        "    cell = lstm.initHidden()\n",
        "\n",
        "    for i in range(line_tensor.size()[0]):\n",
        "        output, hidde,cell = lstm(line_tensor[i], hidden, cell)\n",
        "\n",
        "    loss = criterion(output, category_tensor)\n",
        "\n",
        "    return output, loss.item()"
      ],
      "execution_count": 0,
      "outputs": []
    },
    {
      "metadata": {
        "id": "udxRUEHR8blU",
        "colab_type": "text"
      },
      "cell_type": "markdown",
      "source": [
        "Now we just have to run that with a bunch of examples. Since the\n",
        "``train`` function returns both the output and loss we can print its\n",
        "guesses and also keep track of loss for plotting. Since there are 1000s\n",
        "of examples we print only every ``print_every`` examples, and take an\n",
        "average of the loss.\n",
        "\n",
        "\n"
      ]
    },
    {
      "metadata": {
        "id": "855lcvgwk1pv",
        "colab_type": "text"
      },
      "cell_type": "markdown",
      "source": [
        "Linear hidden units"
      ]
    },
    {
      "metadata": {
        "id": "P6aMoD--k1px",
        "colab_type": "code",
        "outputId": "9e20af43-1561-4dc2-de8f-251e6bc6018f",
        "colab": {
          "base_uri": "https://localhost:8080/",
          "height": 353
        }
      },
      "cell_type": "code",
      "source": [
        "import time\n",
        "import math\n",
        "\n",
        "n_iters = 100000\n",
        "print_every = 5000\n",
        "plot_every = 1000\n",
        "\n",
        "\n",
        "\n",
        "# Keep track of losses for plotting\n",
        "current_loss = 0\n",
        "all_losses = []\n",
        "\n",
        "val_loss = 0\n",
        "val_losses = []\n",
        "\n",
        "def timeSince(since):\n",
        "    now = time.time()\n",
        "    s = now - since\n",
        "    m = math.floor(s / 60)\n",
        "    s -= m * 60\n",
        "    return '%dm %ds' % (m, s)\n",
        "\n",
        "start = time.time()\n",
        "\n",
        "for iter in range(1, n_iters + 1):\n",
        "    category, line, category_tensor, line_tensor = randomTrainingExample()\n",
        "    output, loss = train(category_tensor, line_tensor)\n",
        "    current_loss += loss\n",
        "    \n",
        "    category_test, line_test, category_tensor_test, line_tensor_test = randomTestExample()\n",
        "    _, loss2 = test(category_tensor_test, line_tensor_test)\n",
        "    val_loss += loss2\n",
        "\n",
        "    # Print iter number, loss, name and guess\n",
        "    if iter % print_every == 0:\n",
        "        guess, guess_i = categoryFromOutput(output)\n",
        "        correct = '✓' if guess == category else '✗ (%s)' % category\n",
        "        print('%d %d%% (%s) %.4f %s / %s %s' % (iter, iter / n_iters * 100, timeSince(start), loss, line, guess, correct))\n",
        "\n",
        "    # Add current loss avg to list of losses\n",
        "    if iter % plot_every == 0:\n",
        "        all_losses.append(current_loss / plot_every)\n",
        "        val_losses.append(val_loss / plot_every)\n",
        "        current_loss = 0\n",
        "        val_loss = 0"
      ],
      "execution_count": 16,
      "outputs": [
        {
          "output_type": "stream",
          "text": [
            "5000 5% (0m 27s) 3.1198 Garcia / Japanese ✗ (Portuguese)\n",
            "10000 10% (0m 54s) 4.1880 Uno / Chinese ✗ (Japanese)\n",
            "15000 15% (1m 21s) 0.9076 Kasprzak / Polish ✓\n",
            "20000 20% (1m 48s) 0.7289 Pezos / Greek ✓\n",
            "25000 25% (2m 15s) 1.9210 Knepp / Dutch ✗ (German)\n",
            "30000 30% (2m 41s) 1.8963 Fabbro / Portuguese ✗ (Italian)\n",
            "35000 35% (3m 8s) 0.5955 Weeber / German ✓\n",
            "40000 40% (3m 35s) 1.4412 Glynatsis / Scottish ✗ (Greek)\n",
            "45000 45% (4m 2s) 2.6094 Havlice / English ✗ (Czech)\n",
            "50000 50% (4m 29s) 4.6322 Althuis / Greek ✗ (Dutch)\n",
            "55000 55% (4m 56s) 0.8021 Yatsenko / Russian ✓\n",
            "60000 60% (5m 23s) 0.1708 Belitsky / Russian ✓\n",
            "65000 65% (5m 50s) 1.0246 Gulyashko / Japanese ✗ (Russian)\n",
            "70000 70% (6m 17s) 1.5374 Kuffel / German ✗ (Czech)\n",
            "75000 75% (6m 44s) 0.9340 Chin / Korean ✓\n",
            "80000 80% (7m 11s) 1.3781 Sokolof / Polish ✓\n",
            "85000 85% (7m 38s) 0.5216 Gronchi / Italian ✓\n",
            "90000 90% (8m 5s) 1.2256 Dopita / Czech ✓\n",
            "95000 95% (8m 32s) 0.0691 Silvestri / Italian ✓\n",
            "100000 100% (8m 59s) 3.2066 Tobias / Greek ✗ (French)\n"
          ],
          "name": "stdout"
        }
      ]
    },
    {
      "metadata": {
        "id": "bfJS_qhs8hdy",
        "colab_type": "text"
      },
      "cell_type": "markdown",
      "source": [
        "GRU hidden units"
      ]
    },
    {
      "metadata": {
        "id": "dEreVZj28hyV",
        "colab_type": "code",
        "outputId": "a97a132e-ec07-46d1-e27f-694005fe7d6f",
        "colab": {
          "base_uri": "https://localhost:8080/",
          "height": 353
        }
      },
      "cell_type": "code",
      "source": [
        "import time\n",
        "import math\n",
        "\n",
        "n_iters = 100000\n",
        "print_every = 5000\n",
        "plot_every = 1000\n",
        "\n",
        "\n",
        "\n",
        "# Keep track of losses for plotting\n",
        "current_loss_gru = 0\n",
        "all_losses_gru = []\n",
        "\n",
        "val_loss_gru = 0\n",
        "val_losses_gru = []\n",
        "\n",
        "def timeSince(since):\n",
        "    now = time.time()\n",
        "    s = now - since\n",
        "    m = math.floor(s / 60)\n",
        "    s -= m * 60\n",
        "    return '%dm %ds' % (m, s)\n",
        "\n",
        "start = time.time()\n",
        "\n",
        "for iter in range(1, n_iters + 1):\n",
        "    category, line, category_tensor, line_tensor = randomTrainingExample()\n",
        "    output, loss = train_gru(category_tensor, line_tensor)\n",
        "    current_loss_gru += loss\n",
        "    \n",
        "    category_test, line_test, category_tensor_test, line_tensor_test = randomTestExample()\n",
        "    _, loss2 = test_gru(category_tensor_test, line_tensor_test)\n",
        "    val_loss_gru += loss2\n",
        "\n",
        "    # Print iter number, loss, name and guess\n",
        "    if iter % print_every == 0:\n",
        "        guess, guess_i = categoryFromOutput(output)\n",
        "        correct = '✓' if guess == category else '✗ (%s)' % category\n",
        "        print('%d %d%% (%s) %.4f %s / %s %s' % (iter, iter / n_iters * 100, timeSince(start), loss, line, guess, correct))\n",
        "\n",
        "    # Add current loss avg to list of losses\n",
        "    if iter % plot_every == 0:\n",
        "        all_losses_gru.append(current_loss_gru / plot_every)\n",
        "        val_losses_gru.append(val_loss_gru / plot_every)\n",
        "        current_loss_gru = 0\n",
        "        val_loss_gru = 0"
      ],
      "execution_count": 17,
      "outputs": [
        {
          "output_type": "stream",
          "text": [
            "5000 5% (0m 57s) 2.7649 Muir / German ✗ (Scottish)\n",
            "10000 10% (1m 54s) 2.5344 Choshi / Italian ✗ (Japanese)\n",
            "15000 15% (2m 51s) 2.6833 Birkin / Scottish ✗ (Russian)\n",
            "20000 20% (3m 49s) 2.1020 Andel / Dutch ✓\n",
            "25000 25% (4m 46s) 2.4604 Ganem / Dutch ✗ (Arabic)\n",
            "30000 30% (5m 43s) 1.3915 Huan / Vietnamese ✗ (Chinese)\n",
            "35000 35% (6m 40s) 2.2438 O'Kelly / English ✗ (Irish)\n",
            "40000 40% (7m 38s) 3.3940 Salazar / Arabic ✗ (Portuguese)\n",
            "45000 45% (8m 35s) 0.1499 Abdurakhmanov / Russian ✓\n",
            "50000 50% (9m 31s) 1.3667 Colbert / Dutch ✗ (French)\n",
            "55000 55% (10m 27s) 0.2523 Filipowski / Polish ✓\n",
            "60000 60% (11m 24s) 3.3022 Hout / French ✗ (Dutch)\n",
            "65000 65% (12m 20s) 1.5379 Belo / Portuguese ✓\n",
            "70000 70% (13m 19s) 1.2596 Tong / Korean ✗ (Vietnamese)\n",
            "75000 75% (14m 16s) 0.6903 Hofwegen / Dutch ✓\n",
            "80000 80% (14m 47s) 2.0897 Klerkse / English ✗ (Dutch)\n",
            "85000 85% (15m 17s) 1.6831 Marion / Scottish ✗ (French)\n",
            "90000 90% (15m 51s) 0.6152 O'Halloran / Irish ✓\n",
            "95000 95% (16m 29s) 2.6718 De filippis / Greek ✗ (Italian)\n",
            "100000 100% (17m 29s) 0.7226 Schafer / German ✓\n"
          ],
          "name": "stdout"
        }
      ]
    },
    {
      "metadata": {
        "id": "tH57OktQ_f6W",
        "colab_type": "text"
      },
      "cell_type": "markdown",
      "source": [
        "LSTM hidden units"
      ]
    },
    {
      "metadata": {
        "id": "XGz9pdsK_jpn",
        "colab_type": "code",
        "outputId": "85977c48-d84a-4445-ad89-08a376beedd8",
        "colab": {
          "base_uri": "https://localhost:8080/",
          "height": 353
        }
      },
      "cell_type": "code",
      "source": [
        "import time\n",
        "import math\n",
        "\n",
        "n_iters = 100000\n",
        "print_every = 5000\n",
        "plot_every = 1000\n",
        "\n",
        "\n",
        "\n",
        "# Keep track of losses for plotting\n",
        "current_loss_lstm = 0\n",
        "all_losses_lstm = []\n",
        "\n",
        "val_loss_lstm = 0\n",
        "val_losses_lstm = []\n",
        "\n",
        "def timeSince(since):\n",
        "    now = time.time()\n",
        "    s = now - since\n",
        "    m = math.floor(s / 60)\n",
        "    s -= m * 60\n",
        "    return '%dm %ds' % (m, s)\n",
        "\n",
        "start = time.time()\n",
        "\n",
        "for iter in range(1, n_iters + 1):\n",
        "    category, line, category_tensor, line_tensor = randomTrainingExample()\n",
        "    output, loss = train_lstm(category_tensor, line_tensor)\n",
        "    current_loss_lstm += loss\n",
        "    \n",
        "    category_test, line_test, category_tensor_test, line_tensor_test = randomTestExample()\n",
        "    _, loss2 = test_lstm(category_tensor_test, line_tensor_test)\n",
        "    val_loss_lstm += loss2\n",
        "\n",
        "    # Print iter number, loss, name and guess\n",
        "    if iter % print_every == 0:\n",
        "        guess, guess_i = categoryFromOutput(output)\n",
        "        correct = '✓' if guess == category else '✗ (%s)' % category\n",
        "        print('%d %d%% (%s) %.4f %s / %s %s' % (iter, iter / n_iters * 100, timeSince(start), loss, line, guess, correct))\n",
        "\n",
        "    # Add current loss avg to list of losses\n",
        "    if iter % plot_every == 0:\n",
        "        all_losses_lstm.append(current_loss_lstm / plot_every)\n",
        "        val_losses_lstm.append(val_loss_lstm / plot_every)\n",
        "        current_loss_lstm = 0\n",
        "        val_loss_lstm = 0"
      ],
      "execution_count": 18,
      "outputs": [
        {
          "output_type": "stream",
          "text": [
            "5000 5% (1m 8s) 2.8520 Chaim / Arabic ✗ (Chinese)\n",
            "10000 10% (2m 16s) 2.8071 Kate / French ✗ (Japanese)\n",
            "15000 15% (3m 24s) 3.0181 Chi / Italian ✗ (Korean)\n",
            "20000 20% (4m 32s) 2.1506 Belo / Portuguese ✓\n",
            "25000 25% (5m 40s) 2.6917 Slejtr / German ✗ (Czech)\n",
            "30000 30% (6m 47s) 1.4364 Maurer / German ✓\n",
            "35000 35% (7m 54s) 1.8520 Blaise / French ✓\n",
            "40000 40% (9m 1s) 1.7377 Sartre / French ✓\n",
            "45000 45% (10m 9s) 1.4716 Mui / Chinese ✓\n",
            "50000 50% (11m 16s) 0.4563 Demetrious / Greek ✓\n",
            "55000 55% (12m 23s) 1.6862 Shiba / Japanese ✓\n",
            "60000 60% (13m 30s) 1.1389 Hofwegen / Dutch ✓\n",
            "65000 65% (14m 37s) 0.9983 Duerr / German ✓\n",
            "70000 70% (15m 44s) 3.2405 Stepan / Irish ✗ (Czech)\n",
            "75000 75% (16m 52s) 0.9833 Mclain / Irish ✓\n",
            "80000 80% (17m 59s) 1.6532 Didevich / Irish ✗ (Russian)\n",
            "85000 85% (19m 6s) 2.1169 Riese / French ✗ (German)\n",
            "90000 90% (20m 14s) 1.8428 Zubizarreta / Czech ✗ (Spanish)\n",
            "95000 95% (21m 21s) 1.0972 Pefanis / Greek ✓\n",
            "100000 100% (22m 28s) 0.3328 Oh  / Korean ✓\n"
          ],
          "name": "stdout"
        }
      ]
    },
    {
      "metadata": {
        "id": "3V2tbeVPk1p1",
        "colab_type": "text"
      },
      "cell_type": "markdown",
      "source": [
        "Plotting the Results\n",
        "--------------------\n",
        "\n",
        "Plotting the historical loss from ``all_losses`` shows the network\n",
        "learning:\n",
        "\n",
        "\n"
      ]
    },
    {
      "metadata": {
        "id": "ag5iDwX48O0r",
        "colab_type": "text"
      },
      "cell_type": "markdown",
      "source": [
        "Linear hidden units"
      ]
    },
    {
      "metadata": {
        "id": "ALRBA5ztk1p3",
        "colab_type": "code",
        "outputId": "1f5e5c7e-a9b5-465d-a533-bc17730de544",
        "colab": {
          "base_uri": "https://localhost:8080/",
          "height": 530
        }
      },
      "cell_type": "code",
      "source": [
        "import matplotlib.pyplot as plt\n",
        "import matplotlib.ticker as ticker\n",
        "\n",
        "plt.figure()\n",
        "plt.plot(all_losses)\n",
        "plt.figure()\n",
        "plt.plot(val_losses)"
      ],
      "execution_count": 19,
      "outputs": [
        {
          "output_type": "execute_result",
          "data": {
            "text/plain": [
              "[<matplotlib.lines.Line2D at 0x7f95312574a8>]"
            ]
          },
          "metadata": {
            "tags": []
          },
          "execution_count": 19
        },
        {
          "output_type": "display_data",
          "data": {
            "image/png": "[encoded data removed]",
            "text/plain": [
              "<Figure size 432x288 with 1 Axes>"
            ]
          },
          "metadata": {
            "tags": []
          }
        },
        {
          "output_type": "display_data",
          "data": {
            "image/png": "[encoded data removed]",
            "text/plain": [
              "<Figure size 432x288 with 1 Axes>"
            ]
          },
          "metadata": {
            "tags": []
          }
        }
      ]
    },
    {
      "metadata": {
        "id": "8xdb7HM6G7Rn",
        "colab_type": "code",
        "outputId": "9c876254-8413-40c6-bba3-6f36dbdd691b",
        "colab": {
          "base_uri": "https://localhost:8080/",
          "height": 34
        }
      },
      "cell_type": "code",
      "source": [
        "print(\"Final validation loss for RNN is: %f\" % val_losses[-1])"
      ],
      "execution_count": 20,
      "outputs": [
        {
          "output_type": "stream",
          "text": [
            "Final validation loss for RNN is: 1.728535\n"
          ],
          "name": "stdout"
        }
      ]
    },
    {
      "metadata": {
        "id": "VcbaoTjE8Tpq",
        "colab_type": "text"
      },
      "cell_type": "markdown",
      "source": [
        "GRU hidden units"
      ]
    },
    {
      "metadata": {
        "id": "YRNvTyGC8WCp",
        "colab_type": "code",
        "outputId": "74558b80-c5d8-48fc-ec0a-bb7ff1f978de",
        "colab": {
          "base_uri": "https://localhost:8080/",
          "height": 530
        }
      },
      "cell_type": "code",
      "source": [
        "plt.figure()\n",
        "plt.plot(all_losses_gru)\n",
        "plt.figure()\n",
        "plt.plot(val_losses_gru)"
      ],
      "execution_count": 21,
      "outputs": [
        {
          "output_type": "execute_result",
          "data": {
            "text/plain": [
              "[<matplotlib.lines.Line2D at 0x7f95309cb5c0>]"
            ]
          },
          "metadata": {
            "tags": []
          },
          "execution_count": 21
        },
        {
          "output_type": "display_data",
          "data": {
            "image/png": "[encoded data removed]",
            "text/plain": [
              "<Figure size 432x288 with 1 Axes>"
            ]
          },
          "metadata": {
            "tags": []
          }
        },
        {
          "output_type": "display_data",
          "data": {
            "image/png": "[encoded data removed]",
            "text/plain": [
              "<Figure size 432x288 with 1 Axes>"
            ]
          },
          "metadata": {
            "tags": []
          }
        }
      ]
    },
    {
      "metadata": {
        "id": "KBWHZxrmHFif",
        "colab_type": "code",
        "outputId": "424acbd6-3112-4496-b787-96fc1b7c68d9",
        "colab": {
          "base_uri": "https://localhost:8080/",
          "height": 34
        }
      },
      "cell_type": "code",
      "source": [
        "print(\"Final validation loss for GRU is: %f\" % val_losses_gru[-1])"
      ],
      "execution_count": 22,
      "outputs": [
        {
          "output_type": "stream",
          "text": [
            "Final validation loss for GRU is: 1.593747\n"
          ],
          "name": "stdout"
        }
      ]
    },
    {
      "metadata": {
        "id": "9j1fdzUF-n-x",
        "colab_type": "text"
      },
      "cell_type": "markdown",
      "source": [
        "LSTM hidden units"
      ]
    },
    {
      "metadata": {
        "id": "ITuD3lyt-q4S",
        "colab_type": "code",
        "outputId": "693c7a54-376e-44b5-bc8a-f944b9b12d6e",
        "colab": {
          "base_uri": "https://localhost:8080/",
          "height": 534
        }
      },
      "cell_type": "code",
      "source": [
        "plt.figure()\n",
        "plt.plot(all_losses_lstm)\n",
        "plt.figure()\n",
        "plt.plot(val_losses_lstm)"
      ],
      "execution_count": 23,
      "outputs": [
        {
          "output_type": "execute_result",
          "data": {
            "text/plain": [
              "[<matplotlib.lines.Line2D at 0x7f9530930390>]"
            ]
          },
          "metadata": {
            "tags": []
          },
          "execution_count": 23
        },
        {
          "output_type": "display_data",
          "data": {
            "image/png": "[encoded data removed]",
            "text/plain": [
              "<Figure size 432x288 with 1 Axes>"
            ]
          },
          "metadata": {
            "tags": []
          }
        },
        {
          "output_type": "display_data",
          "data": {
            "image/png": "[encoded data removed]",
            "text/plain": [
              "<Figure size 432x288 with 1 Axes>"
            ]
          },
          "metadata": {
            "tags": []
          }
        }
      ]
    },
    {
      "metadata": {
        "id": "WiUUfa4QHMp7",
        "colab_type": "code",
        "outputId": "e6026705-ab36-4f32-f94d-f7dacdcc1554",
        "colab": {
          "base_uri": "https://localhost:8080/",
          "height": 34
        }
      },
      "cell_type": "code",
      "source": [
        "print(\"Final validation loss for LSTM is: %f\" % val_losses_lstm[-1])"
      ],
      "execution_count": 24,
      "outputs": [
        {
          "output_type": "stream",
          "text": [
            "Final validation loss for LSTM is: 2.378113\n"
          ],
          "name": "stdout"
        }
      ]
    },
    {
      "metadata": {
        "id": "DgDKHhjuC-7g",
        "colab_type": "code",
        "colab": {
          "base_uri": "https://localhost:8080/",
          "height": 296
        },
        "outputId": "9b528bad-59a6-4390-fc79-0f3edfebea89"
      },
      "cell_type": "code",
      "source": [
        "plt.figure()\n",
        "plt.title('validation loss')\n",
        "plt.plot(val_losses, label='RNN')\n",
        "plt.plot(val_losses_gru, label='GRU')\n",
        "plt.plot(val_losses_lstm, label='LSTM')\n",
        "plt.xlabel(\"# of thousands of iterations\")\n",
        "plt.ylabel(\"validation negative log likelihood\")\n",
        "plt.legend()"
      ],
      "execution_count": 25,
      "outputs": [
        {
          "output_type": "execute_result",
          "data": {
            "text/plain": [
              "<matplotlib.legend.Legend at 0x7f953091c7b8>"
            ]
          },
          "metadata": {
            "tags": []
          },
          "execution_count": 25
        },
        {
          "output_type": "display_data",
          "data": {
            "image/png": "[encoded data removed]",
            "text/plain": [
              "<Figure size 432x288 with 1 Axes>"
            ]
          },
          "metadata": {
            "tags": []
          }
        }
      ]
    },
    {
      "metadata": {
        "id": "Uee52-Emk1p6",
        "colab_type": "text"
      },
      "cell_type": "markdown",
      "source": [
        "Evaluating the Results\n",
        "======================\n",
        "\n",
        "To see how well the network performs on different categories, we will\n",
        "create a confusion matrix, indicating for every actual language (rows)\n",
        "which language the network guesses (columns). To calculate the confusion\n",
        "matrix a bunch of samples are run through the network with\n",
        "``evaluate()``, which is the same as ``train()`` minus the backprop.\n",
        "\n",
        "\n"
      ]
    },
    {
      "metadata": {
        "id": "belmH_f2k1p8",
        "colab_type": "code",
        "outputId": "7de0dc63-4599-4d59-c0a2-a664c3e1abf7",
        "colab": {
          "base_uri": "https://localhost:8080/",
          "height": 314
        }
      },
      "cell_type": "code",
      "source": [
        "# Keep track of correct guesses in a confusion matrix\n",
        "confusion = torch.zeros(n_categories, n_categories)\n",
        "n_confusion = 10000\n",
        "\n",
        "# Just return an output given a line\n",
        "def evaluate(line_tensor):\n",
        "    hidden = rnn.initHidden()\n",
        "\n",
        "    for i in range(line_tensor.size()[0]):\n",
        "        output, hidden = rnn(line_tensor[i], hidden)\n",
        "\n",
        "    return output\n",
        "\n",
        "# Go through a bunch of examples and record which are correctly guessed\n",
        "for i in range(n_confusion):\n",
        "    category, line, category_tensor, line_tensor = randomTrainingExample()\n",
        "    output = evaluate(line_tensor)\n",
        "    guess, guess_i = categoryFromOutput(output)\n",
        "    category_i = all_categories.index(category)\n",
        "    confusion[category_i][guess_i] += 1\n",
        "\n",
        "# Normalize by dividing every row by its sum\n",
        "for i in range(n_categories):\n",
        "    confusion[i] = confusion[i] / confusion[i].sum()\n",
        "\n",
        "# Set up plot\n",
        "fig = plt.figure()\n",
        "ax = fig.add_subplot(111)\n",
        "cax = ax.matshow(confusion.numpy())\n",
        "fig.colorbar(cax)\n",
        "\n",
        "# Set up axes\n",
        "ax.set_xticklabels([''] + all_categories, rotation=90)\n",
        "ax.set_yticklabels([''] + all_categories)\n",
        "\n",
        "# Force label at every tick\n",
        "ax.xaxis.set_major_locator(ticker.MultipleLocator(1))\n",
        "ax.yaxis.set_major_locator(ticker.MultipleLocator(1))\n",
        "\n",
        "# sphinx_gallery_thumbnail_number = 2\n",
        "plt.show()"
      ],
      "execution_count": 26,
      "outputs": [
        {
          "output_type": "display_data",
          "data": {
            "image/png": "[encoded data removed]",
            "text/plain": [
              "<Figure size 432x288 with 2 Axes>"
            ]
          },
          "metadata": {
            "tags": []
          }
        }
      ]
    },
    {
      "metadata": {
        "id": "yX9fZUwdk1qA",
        "colab_type": "text"
      },
      "cell_type": "markdown",
      "source": [
        "You can pick out bright spots off the main axis that show which\n",
        "languages it guesses incorrectly, e.g. Chinese for Korean, and Spanish\n",
        "for Italian. It seems to do very well with Greek, and very poorly with\n",
        "English (perhaps because of overlap with other languages).\n",
        "\n",
        "\n"
      ]
    },
    {
      "metadata": {
        "id": "mB4WuAeUk1qA",
        "colab_type": "text"
      },
      "cell_type": "markdown",
      "source": [
        "Running on User Input\n",
        "---------------------\n",
        "\n",
        "\n"
      ]
    },
    {
      "metadata": {
        "id": "ePe4zfTbk1qB",
        "colab_type": "code",
        "colab": {
          "base_uri": "https://localhost:8080/",
          "height": 269
        },
        "outputId": "7102e7a8-b495-4cc5-ca4b-9986d015fb44"
      },
      "cell_type": "code",
      "source": [
        "def predict(input_line, n_predictions=3):\n",
        "    print('\\n> %s' % input_line)\n",
        "    with torch.no_grad():\n",
        "        output = evaluate(lineToTensor(input_line))\n",
        "\n",
        "        # Get top N categories\n",
        "        topv, topi = output.topk(n_predictions, 1, True)\n",
        "        predictions = []\n",
        "\n",
        "        for i in range(n_predictions):\n",
        "            value = topv[0][i].item()\n",
        "            category_index = topi[0][i].item()\n",
        "            print('(%.2f) %s' % (value, all_categories[category_index]))\n",
        "            predictions.append([value, all_categories[category_index]])\n",
        "\n",
        "predict('Dovesky')\n",
        "predict('Jackson')\n",
        "predict('Satoshi')"
      ],
      "execution_count": 27,
      "outputs": [
        {
          "output_type": "stream",
          "text": [
            "\n",
            "> Dovesky\n",
            "(-0.50) Russian\n",
            "(-1.09) Czech\n",
            "(-3.99) Polish\n",
            "\n",
            "> Jackson\n",
            "(-1.29) Russian\n",
            "(-1.37) English\n",
            "(-1.71) Czech\n",
            "\n",
            "> Satoshi\n",
            "(-1.34) Arabic\n",
            "(-1.35) Portuguese\n",
            "(-1.46) Japanese\n"
          ],
          "name": "stdout"
        }
      ]
    },
    {
      "metadata": {
        "id": "Har84lW0k1qE",
        "colab_type": "text"
      },
      "cell_type": "markdown",
      "source": [
        "The final versions of the scripts `in the Practical PyTorch\n",
        "repo <https://github.com/spro/practical-pytorch/tree/master/char-rnn-classification>`__\n",
        "split the above code into a few files:\n",
        "\n",
        "-  ``data.py`` (loads files)\n",
        "-  ``model.py`` (defines the RNN)\n",
        "-  ``train.py`` (runs training)\n",
        "-  ``predict.py`` (runs ``predict()`` with command line arguments)\n",
        "-  ``server.py`` (serve prediction as a JSON API with bottle.py)\n",
        "\n",
        "Run ``train.py`` to train and save the network.\n",
        "\n",
        "Run ``predict.py`` with a name to view predictions:\n",
        "\n",
        "::\n",
        "\n",
        "    $ python predict.py Hazaki\n",
        "    (-0.42) Japanese\n",
        "    (-1.39) Polish\n",
        "    (-3.51) Czech\n",
        "\n",
        "Run ``server.py`` and visit http://localhost:5533/Yourname to get JSON\n",
        "output of predictions.\n",
        "\n",
        "\n"
      ]
    },
    {
      "metadata": {
        "id": "09eJXVSKk1qE",
        "colab_type": "text"
      },
      "cell_type": "markdown",
      "source": [
        "Exercises\n",
        "=========\n",
        "\n",
        "-  Try with a different dataset of line -> category, for example:\n",
        "\n",
        "   -  Any word -> language\n",
        "   -  First name -> gender\n",
        "   -  Character name -> writer\n",
        "   -  Page title -> blog or subreddit\n",
        "\n",
        "-  Get better results with a bigger and/or better shaped network\n",
        "\n",
        "   -  Add more linear layers\n",
        "   -  Try the ``nn.LSTM`` and ``nn.GRU`` layers\n",
        "   -  Combine multiple of these RNNs as a higher level network\n",
        "\n",
        "\n"
      ]
    }
  ]
}