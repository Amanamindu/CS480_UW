{
 "cells": [
  {
   "cell_type": "code",
   "execution_count": 1,
   "metadata": {},
   "outputs": [],
   "source": [
    "import sys\n",
    "import os\n",
    "from sklearn.feature_extraction.text import TfidfVectorizer\n",
    "from sklearn.svm import LinearSVC\n",
    "from sklearn.neighbors import KNeighborsClassifier\n",
    "from sklearn.tree import DecisionTreeClassifier\n",
    "from sklearn.naive_bayes import MultinomialNB\n",
    "from sklearn.pipeline import Pipeline\n",
    "from sklearn.model_selection import GridSearchCV\n",
    "from sklearn.datasets import load_files\n",
    "from sklearn.model_selection import train_test_split\n",
    "from sklearn import metrics\n",
    "import numpy as np\n",
    "import scipy\n",
    "import random\n",
    "import matplotlib.pyplot as plt\n",
    "%matplotlib inline"
   ]
  },
  {
   "cell_type": "code",
   "execution_count": 2,
   "metadata": {},
   "outputs": [],
   "source": [
    "movie_reviews_data_folder = os.path.join('data', 'txt_sentoken')\n",
    "dataset = load_files(movie_reviews_data_folder, shuffle=True)\n",
    "docs_train, docs_test, y_train, y_test = train_test_split(\n",
    "        dataset.data, dataset.target, test_size=0.2, random_state=None)"
   ]
  },
  {
   "cell_type": "code",
   "execution_count": 3,
   "metadata": {},
   "outputs": [
    {
     "name": "stdout",
     "output_type": "stream",
     "text": [
      "(1600, 16390)\n"
     ]
    }
   ],
   "source": [
    "vectorizer = TfidfVectorizer(stop_words='english', max_df=0.95, min_df=3)\n",
    "X_train_counts = vectorizer.fit_transform(docs_train)\n",
    "X_test_counts = vectorizer.transform(docs_test)\n",
    "print(X_train_counts.shape)"
   ]
  },
  {
   "cell_type": "code",
   "execution_count": 4,
   "metadata": {},
   "outputs": [],
   "source": [
    "# start off with a small training set T of 100 data points.\n",
    "# T' is the remaining training data\n",
    "T = X_train_counts[:100]\n",
    "y_T = y_train[:100]\n",
    "T_prime = X_train_counts[100:]\n",
    "y_T_prime = y_train[100:]"
   ]
  },
  {
   "cell_type": "code",
   "execution_count": 5,
   "metadata": {},
   "outputs": [
    {
     "name": "stdout",
     "output_type": "stream",
     "text": [
      "100\n",
      "200\n",
      "300\n",
      "400\n",
      "500\n",
      "600\n",
      "700\n",
      "800\n",
      "900\n",
      "1000\n",
      "1100\n",
      "1200\n",
      "1300\n",
      "1400\n",
      "1500\n"
     ]
    }
   ],
   "source": [
    "# Random Sampling\n",
    "size_to_error_RS = dict()\n",
    "#size_to_train_error = dict()\n",
    "\n",
    "while T_prime.shape[0] > 0:\n",
    "    size = T.shape[0]\n",
    "    if size % 100 == 0:\n",
    "        print(size)\n",
    "        \n",
    "    # train a SVM on T\n",
    "    clf = LinearSVC(C=1000)\n",
    "    clf.fit(T, y_T)\n",
    "    \n",
    "    # evaluate the training performance\n",
    "    #y_train_pred = clf.predict(T_prime)\n",
    "    #train_error = np.mean(y_train_pred != y_T_prime)\n",
    "    #size_to_train_error[size] = train_error\n",
    "    \n",
    "    # evaluate the test performance\n",
    "    y_pred = clf.predict(X_test_counts)\n",
    "    error = np.mean(y_pred != y_test)\n",
    "    size_to_error_RS[size] = error\n",
    "    \n",
    "    # select k training examples with the lowest confidence scores\n",
    "    K = 10\n",
    "    indices = list(range(T_prime.shape[0]))\n",
    "    random.shuffle(indices)\n",
    "    indices = indices[:K]\n",
    "    \n",
    "    # add k examples to the training set\n",
    "    m = T_prime[indices]\n",
    "    n = y_T_prime[indices]\n",
    "    T = scipy.sparse.vstack((T, m))\n",
    "    y_T = np.concatenate((y_T, n))\n",
    "    \n",
    "    # remove the k examples from T'\n",
    "    mask = np.ones(T_prime.shape[0], dtype=bool)\n",
    "    mask[indices] = False\n",
    "    T_prime = T_prime[mask]\n",
    "    y_T_prime = y_T_prime[mask]\n",
    "\n"
   ]
  },
  {
   "cell_type": "code",
   "execution_count": 6,
   "metadata": {},
   "outputs": [
    {
     "data": {
      "image/png": "[encoded data removed]",
      "text/plain": [
       "<matplotlib.figure.Figure at 0x1d6cb0cf400>"
      ]
     },
     "metadata": {},
     "output_type": "display_data"
    },
    {
     "name": "stdout",
     "output_type": "stream",
     "text": [
      "final test error: 0.14\n"
     ]
    }
   ],
   "source": [
    "keys = sorted(size_to_error_RS.keys())\n",
    "values = [size_to_error_RS[key] for key in keys] \n",
    "plt.figure()\n",
    "plt.xlabel(\"training set size |T|\")\n",
    "plt.ylabel(\"test error\")\n",
    "plt.plot(keys, values)\n",
    "plt.show()\n",
    "print('final test error: ' + str(values[-1]))"
   ]
  },
  {
   "cell_type": "code",
   "execution_count": 7,
   "metadata": {},
   "outputs": [],
   "source": [
    "# start off with a small training set T of 100 data points.\n",
    "# T' is the remaining training data\n",
    "T = X_train_counts[:100]\n",
    "y_T = y_train[:100]\n",
    "T_prime = X_train_counts[100:]\n",
    "y_T_prime = y_train[100:]"
   ]
  },
  {
   "cell_type": "code",
   "execution_count": 8,
   "metadata": {},
   "outputs": [
    {
     "name": "stdout",
     "output_type": "stream",
     "text": [
      "100\n",
      "200\n",
      "300\n",
      "400\n",
      "500\n",
      "600\n",
      "700\n",
      "800\n",
      "900\n",
      "1000\n",
      "1100\n",
      "1200\n",
      "1300\n",
      "1400\n",
      "1500\n"
     ]
    }
   ],
   "source": [
    "# Uncertainty Sampling\n",
    "size_to_error_US = dict()\n",
    "#size_to_train_error = dict()\n",
    "\n",
    "while T_prime.shape[0] > 0:\n",
    "    size = T.shape[0]\n",
    "    if size % 100 == 0:\n",
    "        print(size)\n",
    "        \n",
    "    # train a SVM on T\n",
    "    clf = LinearSVC(C=1000)\n",
    "    clf.fit(T, y_T)\n",
    "    \n",
    "    # evaluate the training performance\n",
    "    #y_train_pred = clf.predict(T_prime)\n",
    "    #train_error = np.mean(y_train_pred != y_T_prime)\n",
    "    #size_to_train_error[size] = train_error\n",
    "    \n",
    "    # evaluate the test performance\n",
    "    y_pred = clf.predict(X_test_counts)\n",
    "    error = np.mean(y_pred != y_test)\n",
    "    size_to_error_US[size] = error\n",
    "    \n",
    "    # select k training examples with the lowest confidence scores\n",
    "    K = 10\n",
    "    score = clf.decision_function(T_prime)\n",
    "    score = np.absolute(score)\n",
    "    indices = np.argsort(score)[:10]\n",
    "    \n",
    "    # add k examples to the training set\n",
    "    m = T_prime[indices]\n",
    "    n = y_T_prime[indices]\n",
    "    T = scipy.sparse.vstack((T, m))\n",
    "    y_T = np.concatenate((y_T, n))\n",
    "    \n",
    "    # remove the k examples from T'\n",
    "    mask = np.ones(T_prime.shape[0], dtype=bool)\n",
    "    mask[indices] = False\n",
    "    T_prime = T_prime[mask]\n",
    "    y_T_prime = y_T_prime[mask]\n",
    "\n"
   ]
  },
  {
   "cell_type": "code",
   "execution_count": 9,
   "metadata": {},
   "outputs": [
    {
     "data": {
      "image/png": "[encoded data removed]",
      "text/plain": [
       "<matplotlib.figure.Figure at 0x1d6cafaf320>"
      ]
     },
     "metadata": {},
     "output_type": "display_data"
    },
    {
     "name": "stdout",
     "output_type": "stream",
     "text": [
      "final test error: 0.145\n"
     ]
    }
   ],
   "source": [
    "keys = sorted(size_to_error_US.keys())\n",
    "values = [size_to_error_US[key] for key in keys] \n",
    "plt.figure()\n",
    "plt.xlabel(\"training set size |T|\")\n",
    "plt.ylabel(\"test error\")\n",
    "plt.plot(keys, values)\n",
    "plt.show()\n",
    "print('final test error: ' + str(values[-1]))"
   ]
  },
  {
   "cell_type": "code",
   "execution_count": null,
   "metadata": {},
   "outputs": [],
   "source": [
    "# start off with a small training set T of 100 data points.\n",
    "# T' is the remaining training data\n",
    "T = X_train_counts[:100]\n",
    "y_T = y_train[:100]\n",
    "T_prime = X_train_counts[100:]\n",
    "y_T_prime = y_train[100:]"
   ]
  },
  {
   "cell_type": "code",
   "execution_count": null,
   "metadata": {},
   "outputs": [
    {
     "name": "stdout",
     "output_type": "stream",
     "text": [
      "100\n",
      "200\n",
      "300\n",
      "400\n",
      "500\n",
      "600\n",
      "700\n",
      "800\n",
      "900\n",
      "1000\n"
     ]
    }
   ],
   "source": [
    "# Query by Committee\n",
    "\n",
    "size_to_error_QBC = dict()\n",
    "#size_to_error_knn = dict()\n",
    "size_to_error_dt = dict()\n",
    "size_to_error_svm = dict()\n",
    "size_to_error_nb = dict()\n",
    "\n",
    "while T_prime.shape[0] > 0:\n",
    "    size = T.shape[0]\n",
    "    if size % 100 == 0:\n",
    "        print(size)\n",
    "        \n",
    "    # train 3 classifiers: knn, decision trees, naive bayes on T\n",
    "    #knn = KNeighborsClassifier()\n",
    "    dt = DecisionTreeClassifier()\n",
    "    svm = LinearSVC(C=1000)\n",
    "    nb = MultinomialNB()\n",
    "    \n",
    "    #knn.fit(T, y_T)\n",
    "    dt.fit(T, y_T)\n",
    "    svm.fit(T, y_T)\n",
    "    nb.fit(T, y_T)\n",
    "    \n",
    "    # evaluate the test performance\n",
    "    #y_pred_knn = knn.predict(X_test_counts)\n",
    "    y_pred_dt = dt.predict(X_test_counts)\n",
    "    y_pred_svm = svm.predict(X_test_counts)\n",
    "    y_pred_nb = nb.predict(X_test_counts)\n",
    "    #y_pred = np.round((y_pred_knn + y_pred_dt + y_pred_nb) / 3.0)\n",
    "    #y_pred = np.round((y_pred_knn + y_pred_svm + y_pred_nb) / 3.0)\n",
    "    y_pred = np.round((y_pred_dt + y_pred_svm + y_pred_nb) / 3.0)\n",
    "    error = np.mean(y_pred != y_test)\n",
    "    #error_knn = np.mean(y_pred_knn != y_test)\n",
    "    error_dt = np.mean(y_pred_dt != y_test)\n",
    "    error_svm = np.mean(y_pred_svm != y_test)\n",
    "    error_nb = np.mean(y_pred_nb != y_test)\n",
    "    size_to_error_QBC[size] = error\n",
    "    #size_to_error_knn[size] = error_knn\n",
    "    size_to_error_dt[size] = error_dt\n",
    "    size_to_error_svm[size] = error_svm\n",
    "    size_to_error_nb[size] = error_nb\n",
    "    \n",
    "    # select k training examples that disagree.\n",
    "    #y_pred_train_knn = knn.predict(T_prime)\n",
    "    y_pred_train_dt = dt.predict(T_prime)\n",
    "    y_pred_train_svm = svm.predict(T_prime)\n",
    "    y_pred_train_nb = nb.predict(T_prime)\n",
    "    K = 10\n",
    "    #d = (y_pred_train_knn != y_pred_train_dt) | (y_pred_train_knn != y_pred_train_nb)\n",
    "    #d = (y_pred_train_knn != y_pred_train_svm) | (y_pred_train_knn != y_pred_train_nb)\n",
    "    d = (y_pred_train_dt != y_pred_train_svm) | (y_pred_train_dt != y_pred_train_nb)\n",
    "    if np.sum(d) >= K:\n",
    "        indices = list(np.where(d == True)[0])[:K]\n",
    "    else:\n",
    "        # if # of disagree examples < 10, randomly select the rest.\n",
    "        indices_1 = list(np.where(d == True)[0])\n",
    "        n = K - len(indices_1)\n",
    "        indices_0 = list(np.where(d == False)[0])\n",
    "        random.shuffle(indices_0)\n",
    "        indices = indices_1 + indices_0[:n]\n",
    "        \n",
    "    # add k examples to the training set\n",
    "    m = T_prime[indices]\n",
    "    n = y_T_prime[indices]\n",
    "    T = scipy.sparse.vstack((T, m))\n",
    "    y_T = np.concatenate((y_T, n))\n",
    "    \n",
    "    # remove the k examples from T'\n",
    "    mask = np.ones(T_prime.shape[0], dtype=bool)\n",
    "    mask[indices] = False\n",
    "    T_prime = T_prime[mask]\n",
    "    y_T_prime = y_T_prime[mask]\n"
   ]
  },
  {
   "cell_type": "code",
   "execution_count": null,
   "metadata": {},
   "outputs": [],
   "source": [
    "keys = sorted(size_to_error_QBC.keys())\n",
    "values = [size_to_error_QBC[key] for key in keys] \n",
    "plt.figure()\n",
    "plt.xlabel(\"training set size |T|\")\n",
    "plt.ylabel(\"test error\")\n",
    "plt.plot(keys, values)\n",
    "plt.show()\n",
    "print('final test error: ' + str(values[-1]))"
   ]
  },
  {
   "cell_type": "code",
   "execution_count": null,
   "metadata": {},
   "outputs": [],
   "source": []
  }
 ],
 "metadata": {
  "kernelspec": {
   "display_name": "Python [conda env:Anaconda3]",
   "language": "python",
   "name": "conda-env-Anaconda3-py"
  },
  "language_info": {
   "codemirror_mode": {
    "name": "ipython",
    "version": 3
   },
   "file_extension": ".py",
   "mimetype": "text/x-python",
   "name": "python",
   "nbconvert_exporter": "python",
   "pygments_lexer": "ipython3",
   "version": "3.6.4"
  },
  "toc": {
   "base_numbering": 1,
   "nav_menu": {},
   "number_sections": true,
   "sideBar": true,
   "skip_h1_title": false,
   "title_cell": "Table of Contents",
   "title_sidebar": "Contents",
   "toc_cell": false,
   "toc_position": {},
   "toc_section_display": true,
   "toc_window_display": false
  }
 },
 "nbformat": 4,
 "nbformat_minor": 2
}
